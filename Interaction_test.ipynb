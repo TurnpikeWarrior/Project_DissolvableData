{
 "cells": [
  {
   "cell_type": "code",
   "execution_count": 1,
   "metadata": {
    "collapsed": true
   },
   "outputs": [],
   "source": [
    "import pandas as pd\n",
    "import numpy as np\n",
    "import matplotlib.pyplot as plt\n",
    "import seaborn as sns\n",
    "import ipywidgets as widgets\n",
    "from IPython.display import display\n",
    "from ipywidgets import interactive"
   ]
  },
  {
   "cell_type": "code",
   "execution_count": 2,
   "metadata": {
    "collapsed": true
   },
   "outputs": [],
   "source": [
    "census = pd.read_csv('census.csv')\n",
    "#census.axes\n",
    "#df.sort_values(by='reports', ascending=0, inpl)\n",
    "census.sort_values(by='State', axis=0,inplace=True)\n",
    "#census.set_index(keys='State',inplace=True)\n",
    "#census"
   ]
  },
  {
   "cell_type": "code",
   "execution_count": 3,
   "metadata": {
    "collapsed": true
   },
   "outputs": [],
   "source": [
    "us_state =pd.Series({\n",
    "    'Alabama': 'AL',\n",
    "    'Alaska': 'AK',\n",
    "    'Arizona': 'AZ',\n",
    "    'Arkansas': 'AR',\n",
    "    'California': 'CA',\n",
    "    'Colorado': 'CO',\n",
    "    'Connecticut': 'CT',\n",
    "    'Delaware': 'DE',\n",
    "    'Florida': 'FL',\n",
    "    'Georgia': 'GA',\n",
    "    'Hawaii': 'HI',\n",
    "    'Idaho': 'ID',\n",
    "    'Illinois': 'IL',\n",
    "    'Indiana': 'IN',\n",
    "    'Iowa': 'IA',\n",
    "    'Kansas': 'KS',\n",
    "    'Kentucky': 'KY',\n",
    "    'Louisiana': 'LA',\n",
    "    'Maine': 'ME',\n",
    "    'Maryland': 'MD',\n",
    "    'Massachusetts': 'MA',\n",
    "    'Michigan': 'MI',\n",
    "    'Minnesota': 'MN',\n",
    "    'Mississippi': 'MS',\n",
    "    'Missouri': 'MO',\n",
    "    'Montana': 'MT',\n",
    "    'Nebraska': 'NE',\n",
    "    'Nevada': 'NV',\n",
    "    'New Hampshire': 'NH',\n",
    "    'New Jersey': 'NJ',\n",
    "    'New Mexico': 'NM',\n",
    "    'New York': 'NY',\n",
    "    'North Carolina': 'NC',\n",
    "    'North Dakota': 'ND',\n",
    "    'Ohio': 'OH',\n",
    "    'Oklahoma': 'OK',\n",
    "    'Oregon': 'OR',\n",
    "    'Pennsylvania': 'PA',\n",
    "    'Rhode Island': 'RI',\n",
    "    'South Carolina': 'SC',\n",
    "    'South Dakota': 'SD',\n",
    "    'Tennessee': 'TN',\n",
    "    'Texas': 'TX',\n",
    "    'Utah': 'UT',\n",
    "    'Vermont': 'VT',\n",
    "    'Virginia': 'VA',\n",
    "    'Washington': 'WA',\n",
    "    'West Virginia': 'WV',\n",
    "    'Wisconsin': 'WI',\n",
    "    'Wyoming': 'WY'\n",
    "})"
   ]
  },
  {
   "cell_type": "code",
   "execution_count": 4,
   "metadata": {
    "collapsed": true
   },
   "outputs": [],
   "source": [
    "us_state_df = pd.DataFrame(us_state).reset_index()\n",
    "us_state_df.columns = ['State', 'Code']\n",
    "#us_state_df"
   ]
  },
  {
   "cell_type": "code",
   "execution_count": 5,
   "metadata": {
    "collapsed": true
   },
   "outputs": [],
   "source": [
    "census_corrected = pd.merge(census, us_state_df, how='outer', sort=True, on='State')\n",
    "#census_corrected"
   ]
  },
  {
   "cell_type": "code",
   "execution_count": 6,
   "metadata": {},
   "outputs": [
    {
     "name": "stdout",
     "output_type": "stream",
     "text": [
      "<class 'pandas.core.frame.DataFrame'>\n",
      "Int64Index: 19510 entries, 0 to 19509\n",
      "Data columns (total 4 columns):\n",
      "City          19510 non-null object\n",
      "State         19510 non-null object\n",
      "Population    19510 non-null int64\n",
      "Code          19507 non-null object\n",
      "dtypes: int64(1), object(3)\n",
      "memory usage: 762.1+ KB\n"
     ]
    }
   ],
   "source": [
    "census_corrected.info()"
   ]
  },
  {
   "cell_type": "code",
   "execution_count": 7,
   "metadata": {
    "collapsed": true
   },
   "outputs": [],
   "source": [
    "my_state = list(set(census_corrected['State']))"
   ]
  },
  {
   "cell_type": "code",
   "execution_count": 8,
   "metadata": {},
   "outputs": [
    {
     "data": {
      "text/plain": [
       "['Oklahoma',\n",
       " 'Delaware',\n",
       " 'Moore County metropolitan government; Tennessee',\n",
       " 'North Carolina',\n",
       " 'Arizona',\n",
       " 'Oregon',\n",
       " 'District of Columbia',\n",
       " 'Arkansas',\n",
       " 'New Hampshire',\n",
       " 'Tennessee',\n",
       " 'Texas',\n",
       " 'West Virginia',\n",
       " 'Georgia',\n",
       " 'Louisiana',\n",
       " 'Washington',\n",
       " 'Virginia',\n",
       " 'Illinois',\n",
       " 'Colorado',\n",
       " 'Mississippi',\n",
       " 'New Jersey',\n",
       " 'South Carolina',\n",
       " 'Vermont',\n",
       " 'Hawaii',\n",
       " 'Kansas',\n",
       " 'Idaho',\n",
       " 'South Dakota',\n",
       " 'Village of Islands village; Florida',\n",
       " 'Nebraska',\n",
       " 'California',\n",
       " 'Maryland',\n",
       " 'Kentucky',\n",
       " 'Nevada',\n",
       " 'Pennsylvania',\n",
       " 'Rhode Island',\n",
       " 'New York',\n",
       " 'Connecticut',\n",
       " 'Wisconsin',\n",
       " 'New Mexico',\n",
       " 'Maine',\n",
       " 'Indiana',\n",
       " 'Michigan',\n",
       " 'Massachusetts',\n",
       " 'Missouri',\n",
       " 'Montana',\n",
       " 'Ohio',\n",
       " 'Alabama',\n",
       " 'Florida',\n",
       " 'Iowa',\n",
       " 'Minnesota',\n",
       " 'North Dakota',\n",
       " 'Utah',\n",
       " 'Alaska',\n",
       " 'Wyoming']"
      ]
     },
     "execution_count": 8,
     "metadata": {},
     "output_type": "execute_result"
    }
   ],
   "source": [
    "my_state"
   ]
  },
  {
   "cell_type": "code",
   "execution_count": 14,
   "metadata": {},
   "outputs": [
    {
     "data": {
      "application/vnd.jupyter.widget-view+json": {
       "model_id": "833f4d3243e94d1ea1e9d81cac52cf3f",
       "version_major": 2,
       "version_minor": 0
      },
      "text/html": [
       "<p>Failed to display Jupyter Widget of type <code>interactive</code>.</p>\n",
       "<p>\n",
       "  If you're reading this message in Jupyter Notebook or JupyterLab, it may mean\n",
       "  that the widgets JavaScript is still loading. If this message persists, it\n",
       "  likely means that the widgets JavaScript library is either not installed or\n",
       "  not enabled. See the <a href=\"https://ipywidgets.readthedocs.io/en/stable/user_install.html\">Jupyter\n",
       "  Widgets Documentation</a> for setup instructions.\n",
       "</p>\n",
       "<p>\n",
       "  If you're reading this message in another notebook frontend (for example, a static\n",
       "  rendering on GitHub or <a href=\"https://nbviewer.jupyter.org/\">NBViewer</a>),\n",
       "  it may mean that your frontend doesn't currently support widgets.\n",
       "</p>\n"
      ],
      "text/plain": [
       "interactive(children=(Dropdown(description='state', options=('Oklahoma', 'Delaware', 'Moore County metropolitan government; Tennessee', 'North Carolina', 'Arizona', 'Oregon', 'District of Columbia', 'Arkansas', 'New Hampshire', 'Tennessee', 'Texas', 'West Virginia', 'Georgia', 'Louisiana', 'Washington', 'Virginia', 'Illinois', 'Colorado', 'Mississippi', 'New Jersey', 'South Carolina', 'Vermont', 'Hawaii', 'Kansas', 'Idaho', 'South Dakota', 'Village of Islands village; Florida', 'Nebraska', 'California', 'Maryland', 'Kentucky', 'Nevada', 'Pennsylvania', 'Rhode Island', 'New York', 'Connecticut', 'Wisconsin', 'New Mexico', 'Maine', 'Indiana', 'Michigan', 'Massachusetts', 'Missouri', 'Montana', 'Ohio', 'Alabama', 'Florida', 'Iowa', 'Minnesota', 'North Dakota', 'Utah', 'Alaska', 'Wyoming'), value='Oklahoma'), Output()), _dom_classes=('widget-interact',))"
      ]
     },
     "metadata": {},
     "output_type": "display_data"
    }
   ],
   "source": [
    "# Define any function\n",
    "def f(state):\n",
    "    return state\n",
    "\n",
    "# Create sliders using interactive\n",
    "my_result = interactive(f,state=my_state)\n",
    "\n",
    "# You can also view this in a notebook without using display.\n",
    "display(my_result)"
   ]
  },
  {
   "cell_type": "code",
   "execution_count": 16,
   "metadata": {},
   "outputs": [
    {
     "data": {
      "text/plain": [
       "'North Carolina'"
      ]
     },
     "execution_count": 16,
     "metadata": {},
     "output_type": "execute_result"
    }
   ],
   "source": [
    "my_result.result"
   ]
  },
  {
   "cell_type": "code",
   "execution_count": null,
   "metadata": {
    "collapsed": true
   },
   "outputs": [],
   "source": []
  }
 ],
 "metadata": {
  "kernelspec": {
   "display_name": "Python [default]",
   "language": "python",
   "name": "python3"
  },
  "language_info": {
   "codemirror_mode": {
    "name": "ipython",
    "version": 3
   },
   "file_extension": ".py",
   "mimetype": "text/x-python",
   "name": "python",
   "nbconvert_exporter": "python",
   "pygments_lexer": "ipython3",
   "version": "3.6.2"
  }
 },
 "nbformat": 4,
 "nbformat_minor": 2
}
