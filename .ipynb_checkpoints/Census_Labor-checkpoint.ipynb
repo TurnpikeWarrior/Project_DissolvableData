{
 "cells": [
  {
   "cell_type": "code",
   "execution_count": 1,
   "metadata": {
    "collapsed": true
   },
   "outputs": [],
   "source": [
    "# Dependencies Libraries \n",
    "import pandas as pd\n",
    "import numpy as np\n",
    "import matplotlib.pyplot as plt\n",
    "import seaborn as sns\n",
    "import ipywidgets as widgets\n",
    "from IPython.display import display\n",
    "from ipywidgets import interactive"
   ]
  },
  {
   "cell_type": "code",
   "execution_count": 2,
   "metadata": {
    "collapsed": true
   },
   "outputs": [],
   "source": [
    "# Population Catagory Options in a list \n",
    "population_catagory = ['>=100000','>=250000','>=500000','>=1000000']\n",
    "\n",
    "labor_force_catagory = ['Management','Business and Financial','Computer and Mathematical'\n",
    "                        'Architecture and Engineering''Life, Physical, and Social Science',\n",
    "                        'Community and Social Service','Legal','Education, Training, and Library',\n",
    "                        'Arts, Design, Entertainment, Sports, and Media','Healthcare Practitioners and Technical',\n",
    "                        'Healthcare Support','Protective Service','Food Preparation and Serving Related',\n",
    "                        'Building and Grounds Cleaning and Maintenance','Personal Care and Service',\n",
    "                        'Sales and Related','Office and Administrative Support','Farming, Fishing, and Forestry',\n",
    "                        'Construction and Extraction','Installation, Maintenance, and Repair','Production',\n",
    "                        'Transportation and Material Moving']"
   ]
  },
  {
   "cell_type": "code",
   "execution_count": 10,
   "metadata": {
    "collapsed": true
   },
   "outputs": [],
   "source": [
    "# Define Population function to choose the population catagory as part of the Selection Widgets\n",
    "def f(population):\n",
    "    if population =='>=100000':\n",
    "        population = 100000\n",
    "    elif population == '>=250000':\n",
    "        population = 250000\n",
    "    elif population == '>=500000':\n",
    "        population = 500000\n",
    "    else:\n",
    "        population = 1000000\n",
    "    return population"
   ]
  },
  {
   "cell_type": "code",
   "execution_count": 11,
   "metadata": {
    "collapsed": true
   },
   "outputs": [],
   "source": [
    "# Define Labor force Catagory function to choose the Labor force Catagory as part of the Selection Widgets\n",
    "# def f(Primary_labor):\n",
    "#     return Primary_labor\n",
    "\n",
    "# def f(Secondary_labor):\n",
    "#     return Secondary_labor\n",
    "\n",
    "# def f(Optional_labor):\n",
    "#     return Optional_labor"
   ]
  },
  {
   "cell_type": "code",
   "execution_count": 12,
   "metadata": {},
   "outputs": [
    {
     "data": {
      "text/html": [
       "<div>\n",
       "<style>\n",
       "    .dataframe thead tr:only-child th {\n",
       "        text-align: right;\n",
       "    }\n",
       "\n",
       "    .dataframe thead th {\n",
       "        text-align: left;\n",
       "    }\n",
       "\n",
       "    .dataframe tbody tr th {\n",
       "        vertical-align: top;\n",
       "    }\n",
       "</style>\n",
       "<table border=\"1\" class=\"dataframe\">\n",
       "  <thead>\n",
       "    <tr style=\"text-align: right;\">\n",
       "      <th></th>\n",
       "      <th>City</th>\n",
       "      <th>Population</th>\n",
       "      <th>County</th>\n",
       "      <th>State</th>\n",
       "      <th>FullState</th>\n",
       "      <th>MSA</th>\n",
       "      <th>Unnamed: 6</th>\n",
       "      <th>Unnamed: 7</th>\n",
       "    </tr>\n",
       "  </thead>\n",
       "  <tbody>\n",
       "    <tr>\n",
       "      <th>65</th>\n",
       "      <td>Anchorage</td>\n",
       "      <td>298192</td>\n",
       "      <td>Anchorage Municipality</td>\n",
       "      <td>AK</td>\n",
       "      <td>Alaska</td>\n",
       "      <td>Anchorage, AK</td>\n",
       "      <td>NaN</td>\n",
       "      <td>NaN</td>\n",
       "    </tr>\n",
       "    <tr>\n",
       "      <th>124</th>\n",
       "      <td>Mobile</td>\n",
       "      <td>192904</td>\n",
       "      <td>Mobile County</td>\n",
       "      <td>AL</td>\n",
       "      <td>Alabama</td>\n",
       "      <td>Mobile, AL</td>\n",
       "      <td>NaN</td>\n",
       "      <td>NaN</td>\n",
       "    </tr>\n",
       "    <tr>\n",
       "      <th>103</th>\n",
       "      <td>Birmingham</td>\n",
       "      <td>212157</td>\n",
       "      <td>Jefferson County</td>\n",
       "      <td>AL</td>\n",
       "      <td>Alabama</td>\n",
       "      <td>Birmingham-Hoover, AL</td>\n",
       "      <td>NaN</td>\n",
       "      <td>NaN</td>\n",
       "    </tr>\n",
       "    <tr>\n",
       "      <th>123</th>\n",
       "      <td>Huntsville</td>\n",
       "      <td>193079</td>\n",
       "      <td>Madison County</td>\n",
       "      <td>AL</td>\n",
       "      <td>Alabama</td>\n",
       "      <td>Huntsville, AL</td>\n",
       "      <td>NaN</td>\n",
       "      <td>NaN</td>\n",
       "    </tr>\n",
       "    <tr>\n",
       "      <th>114</th>\n",
       "      <td>Montgomery</td>\n",
       "      <td>200022</td>\n",
       "      <td>Montgomery County</td>\n",
       "      <td>AL</td>\n",
       "      <td>Alabama</td>\n",
       "      <td>Montgomery, AL</td>\n",
       "      <td>NaN</td>\n",
       "      <td>NaN</td>\n",
       "    </tr>\n",
       "  </tbody>\n",
       "</table>\n",
       "</div>"
      ],
      "text/plain": [
       "           City  Population                  County State FullState  \\\n",
       "65    Anchorage      298192  Anchorage Municipality    AK    Alaska   \n",
       "124      Mobile      192904           Mobile County    AL   Alabama   \n",
       "103  Birmingham      212157        Jefferson County    AL   Alabama   \n",
       "123  Huntsville      193079          Madison County    AL   Alabama   \n",
       "114  Montgomery      200022       Montgomery County    AL   Alabama   \n",
       "\n",
       "                       MSA  Unnamed: 6  Unnamed: 7  \n",
       "65           Anchorage, AK         NaN         NaN  \n",
       "124             Mobile, AL         NaN         NaN  \n",
       "103  Birmingham-Hoover, AL         NaN         NaN  \n",
       "123         Huntsville, AL         NaN         NaN  \n",
       "114         Montgomery, AL         NaN         NaN  "
      ]
     },
     "execution_count": 12,
     "metadata": {},
     "output_type": "execute_result"
    }
   ],
   "source": [
    "census = pd.read_csv('Census_MSA.csv', encoding = 'utf-8',na_values=None)\n",
    "census.sort_values(by='State', axis=0,inplace=True)\n",
    "census.head()"
   ]
  },
  {
   "cell_type": "code",
   "execution_count": 13,
   "metadata": {},
   "outputs": [
    {
     "data": {
      "application/vnd.jupyter.widget-view+json": {
       "model_id": "bf998cd7336e4c188fc8e16d7c17931a",
       "version_major": 2,
       "version_minor": 0
      },
      "text/html": [
       "<p>Failed to display Jupyter Widget of type <code>interactive</code>.</p>\n",
       "<p>\n",
       "  If you're reading this message in Jupyter Notebook or JupyterLab, it may mean\n",
       "  that the widgets JavaScript is still loading. If this message persists, it\n",
       "  likely means that the widgets JavaScript library is either not installed or\n",
       "  not enabled. See the <a href=\"https://ipywidgets.readthedocs.io/en/stable/user_install.html\">Jupyter\n",
       "  Widgets Documentation</a> for setup instructions.\n",
       "</p>\n",
       "<p>\n",
       "  If you're reading this message in another notebook frontend (for example, a static\n",
       "  rendering on GitHub or <a href=\"https://nbviewer.jupyter.org/\">NBViewer</a>),\n",
       "  it may mean that your frontend doesn't currently support widgets.\n",
       "</p>\n"
      ],
      "text/plain": [
       "interactive(children=(Dropdown(description='population', options=('>=100000', '>=250000', '>=500000', '>=1000000'), value='>=100000'), Output()), _dom_classes=('widget-interact',))"
      ]
     },
     "metadata": {},
     "output_type": "display_data"
    }
   ],
   "source": [
    "# Create Lists using interactive\n",
    "population = interactive(f,population=population_catagory)\n",
    "\n",
    "# You can also view this in a notebook without using display.\n",
    "display(population)"
   ]
  },
  {
   "cell_type": "code",
   "execution_count": 42,
   "metadata": {},
   "outputs": [
    {
     "data": {
      "text/plain": [
       "100000"
      ]
     },
     "execution_count": 42,
     "metadata": {},
     "output_type": "execute_result"
    }
   ],
   "source": [
    "population.result"
   ]
  },
  {
   "cell_type": "code",
   "execution_count": 17,
   "metadata": {
    "scrolled": true
   },
   "outputs": [
    {
     "data": {
      "text/html": [
       "<div>\n",
       "<style>\n",
       "    .dataframe thead tr:only-child th {\n",
       "        text-align: right;\n",
       "    }\n",
       "\n",
       "    .dataframe thead th {\n",
       "        text-align: left;\n",
       "    }\n",
       "\n",
       "    .dataframe tbody tr th {\n",
       "        vertical-align: top;\n",
       "    }\n",
       "</style>\n",
       "<table border=\"1\" class=\"dataframe\">\n",
       "  <thead>\n",
       "    <tr style=\"text-align: right;\">\n",
       "      <th></th>\n",
       "      <th>City</th>\n",
       "      <th>Population</th>\n",
       "      <th>County</th>\n",
       "      <th>State</th>\n",
       "      <th>FullState</th>\n",
       "      <th>MSA</th>\n",
       "      <th>Unnamed: 6</th>\n",
       "      <th>Unnamed: 7</th>\n",
       "    </tr>\n",
       "  </thead>\n",
       "  <tbody>\n",
       "    <tr>\n",
       "      <th>4</th>\n",
       "      <td>Phoenix</td>\n",
       "      <td>1615017</td>\n",
       "      <td>Maricopa County</td>\n",
       "      <td>AZ</td>\n",
       "      <td>Arizona</td>\n",
       "      <td>Phoenix-Mesa-Scottsdale, AZ</td>\n",
       "      <td>NaN</td>\n",
       "      <td>NaN</td>\n",
       "    </tr>\n",
       "    <tr>\n",
       "      <th>9</th>\n",
       "      <td>San Jose</td>\n",
       "      <td>1025350</td>\n",
       "      <td>Santa Clara County</td>\n",
       "      <td>CA</td>\n",
       "      <td>California</td>\n",
       "      <td>San Jose-Sunnyvale-Santa Clara, CA</td>\n",
       "      <td>NaN</td>\n",
       "      <td>NaN</td>\n",
       "    </tr>\n",
       "    <tr>\n",
       "      <th>1</th>\n",
       "      <td>Los Angeles</td>\n",
       "      <td>3976322</td>\n",
       "      <td>Los Angeles County</td>\n",
       "      <td>CA</td>\n",
       "      <td>California</td>\n",
       "      <td>Los Angeles-Long Beach-Glendale, CA Metropolit...</td>\n",
       "      <td>NaN</td>\n",
       "      <td>NaN</td>\n",
       "    </tr>\n",
       "    <tr>\n",
       "      <th>7</th>\n",
       "      <td>San Diego</td>\n",
       "      <td>1406630</td>\n",
       "      <td>San Diego County</td>\n",
       "      <td>CA</td>\n",
       "      <td>California</td>\n",
       "      <td>San Diego-Carlsbad, CA</td>\n",
       "      <td>NaN</td>\n",
       "      <td>NaN</td>\n",
       "    </tr>\n",
       "    <tr>\n",
       "      <th>2</th>\n",
       "      <td>Chicago</td>\n",
       "      <td>2704958</td>\n",
       "      <td>Cook County</td>\n",
       "      <td>IL</td>\n",
       "      <td>Illinois</td>\n",
       "      <td>Chicago-Naperville-Arlington Heights, IL Metro...</td>\n",
       "      <td>NaN</td>\n",
       "      <td>NaN</td>\n",
       "    </tr>\n",
       "    <tr>\n",
       "      <th>0</th>\n",
       "      <td>New York</td>\n",
       "      <td>8537673</td>\n",
       "      <td>Bronx County</td>\n",
       "      <td>NY</td>\n",
       "      <td>New York</td>\n",
       "      <td>New York-Jersey City-White Plains, NY-NJ Metro...</td>\n",
       "      <td>NaN</td>\n",
       "      <td>NaN</td>\n",
       "    </tr>\n",
       "    <tr>\n",
       "      <th>5</th>\n",
       "      <td>Philadelphia</td>\n",
       "      <td>1567872</td>\n",
       "      <td>Philadelphia County</td>\n",
       "      <td>PA</td>\n",
       "      <td>Pennsylvania</td>\n",
       "      <td>Philadelphia, PA Metropolitan Division</td>\n",
       "      <td>NaN</td>\n",
       "      <td>NaN</td>\n",
       "    </tr>\n",
       "    <tr>\n",
       "      <th>3</th>\n",
       "      <td>Houston</td>\n",
       "      <td>2303482</td>\n",
       "      <td>Harris County</td>\n",
       "      <td>TX</td>\n",
       "      <td>Texas</td>\n",
       "      <td>Houston-The Woodlands-Sugar Land, TX</td>\n",
       "      <td>NaN</td>\n",
       "      <td>NaN</td>\n",
       "    </tr>\n",
       "    <tr>\n",
       "      <th>8</th>\n",
       "      <td>Dallas</td>\n",
       "      <td>1317929</td>\n",
       "      <td>Dallas County</td>\n",
       "      <td>TX</td>\n",
       "      <td>Texas</td>\n",
       "      <td>Dallas-Plano-Irving, TX Metropolitan Division</td>\n",
       "      <td>NaN</td>\n",
       "      <td>NaN</td>\n",
       "    </tr>\n",
       "    <tr>\n",
       "      <th>6</th>\n",
       "      <td>San Antonio</td>\n",
       "      <td>1492510</td>\n",
       "      <td>Bexar County</td>\n",
       "      <td>TX</td>\n",
       "      <td>Texas</td>\n",
       "      <td>San Antonio-New Braunfels, TX</td>\n",
       "      <td>NaN</td>\n",
       "      <td>NaN</td>\n",
       "    </tr>\n",
       "  </tbody>\n",
       "</table>\n",
       "</div>"
      ],
      "text/plain": [
       "           City  Population               County State     FullState  \\\n",
       "4       Phoenix     1615017      Maricopa County    AZ       Arizona   \n",
       "9      San Jose     1025350   Santa Clara County    CA    California   \n",
       "1   Los Angeles     3976322   Los Angeles County    CA    California   \n",
       "7     San Diego     1406630     San Diego County    CA    California   \n",
       "2       Chicago     2704958          Cook County    IL      Illinois   \n",
       "0      New York     8537673         Bronx County    NY      New York   \n",
       "5  Philadelphia     1567872  Philadelphia County    PA  Pennsylvania   \n",
       "3       Houston     2303482        Harris County    TX         Texas   \n",
       "8        Dallas     1317929        Dallas County    TX         Texas   \n",
       "6   San Antonio     1492510         Bexar County    TX         Texas   \n",
       "\n",
       "                                                 MSA  Unnamed: 6  Unnamed: 7  \n",
       "4                        Phoenix-Mesa-Scottsdale, AZ         NaN         NaN  \n",
       "9                 San Jose-Sunnyvale-Santa Clara, CA         NaN         NaN  \n",
       "1  Los Angeles-Long Beach-Glendale, CA Metropolit...         NaN         NaN  \n",
       "7                             San Diego-Carlsbad, CA         NaN         NaN  \n",
       "2  Chicago-Naperville-Arlington Heights, IL Metro...         NaN         NaN  \n",
       "0  New York-Jersey City-White Plains, NY-NJ Metro...         NaN         NaN  \n",
       "5             Philadelphia, PA Metropolitan Division         NaN         NaN  \n",
       "3               Houston-The Woodlands-Sugar Land, TX         NaN         NaN  \n",
       "8      Dallas-Plano-Irving, TX Metropolitan Division         NaN         NaN  \n",
       "6                      San Antonio-New Braunfels, TX         NaN         NaN  "
      ]
     },
     "execution_count": 17,
     "metadata": {},
     "output_type": "execute_result"
    }
   ],
   "source": [
    "census[census['Population'] >= population.result]"
   ]
  },
  {
   "cell_type": "code",
   "execution_count": 18,
   "metadata": {
    "collapsed": true
   },
   "outputs": [],
   "source": [
    "# Define Labor force Catagory function to choose the Labor force Catagory as part of the Selection Widgets\n",
    "def f(Primary_labor):\n",
    "    return Primary_labor"
   ]
  },
  {
   "cell_type": "code",
   "execution_count": 21,
   "metadata": {},
   "outputs": [
    {
     "data": {
      "application/vnd.jupyter.widget-view+json": {
       "model_id": "53cc6e7ab57b4017905a2d36875d3cfd",
       "version_major": 2,
       "version_minor": 0
      },
      "text/html": [
       "<p>Failed to display Jupyter Widget of type <code>interactive</code>.</p>\n",
       "<p>\n",
       "  If you're reading this message in Jupyter Notebook or JupyterLab, it may mean\n",
       "  that the widgets JavaScript is still loading. If this message persists, it\n",
       "  likely means that the widgets JavaScript library is either not installed or\n",
       "  not enabled. See the <a href=\"https://ipywidgets.readthedocs.io/en/stable/user_install.html\">Jupyter\n",
       "  Widgets Documentation</a> for setup instructions.\n",
       "</p>\n",
       "<p>\n",
       "  If you're reading this message in another notebook frontend (for example, a static\n",
       "  rendering on GitHub or <a href=\"https://nbviewer.jupyter.org/\">NBViewer</a>),\n",
       "  it may mean that your frontend doesn't currently support widgets.\n",
       "</p>\n"
      ],
      "text/plain": [
       "interactive(children=(Dropdown(description='Primary_labor', options=('Management', 'Business and Financial', 'Computer and MathematicalArchitecture and EngineeringLife, Physical, and Social Science', 'Community and Social Service', 'Legal', 'Education, Training, and Library', 'Arts, Design, Entertainment, Sports, and Media', 'Healthcare Practitioners and Technical', 'Healthcare Support', 'Protective Service', 'Food Preparation and Serving Related', 'Building and Grounds Cleaning and Maintenance', 'Personal Care and Service', 'Sales and Related', 'Office and Administrative Support', 'Farming, Fishing, and Forestry', 'Construction and Extraction', 'Installation, Maintenance, and Repair', 'Production', 'Transportation and Material Moving'), value='Management'), Output()), _dom_classes=('widget-interact',))"
      ]
     },
     "metadata": {},
     "output_type": "display_data"
    }
   ],
   "source": [
    "# Create Lists using interactive\n",
    "primary_labor_force = interactive(f,Primary_labor=labor_force_catagory)\n",
    "\n",
    "# You can also view this in a notebook without using display.\n",
    "display(primary_labor_force)"
   ]
  },
  {
   "cell_type": "code",
   "execution_count": 43,
   "metadata": {},
   "outputs": [
    {
     "data": {
      "text/plain": [
       "'Management'"
      ]
     },
     "execution_count": 43,
     "metadata": {},
     "output_type": "execute_result"
    }
   ],
   "source": [
    "primary_labor_force.result"
   ]
  },
  {
   "cell_type": "code",
   "execution_count": 44,
   "metadata": {},
   "outputs": [
    {
     "data": {
      "text/plain": [
       "list"
      ]
     },
     "execution_count": 44,
     "metadata": {},
     "output_type": "execute_result"
    }
   ],
   "source": [
    "Secondary_labor_force_catagory = [x for x in labor_force_catagory if x != primary_labor_force.result]\n",
    "type(Secondary_labor_force_catagory)"
   ]
  },
  {
   "cell_type": "code",
   "execution_count": 45,
   "metadata": {
    "scrolled": true
   },
   "outputs": [
    {
     "data": {
      "text/plain": [
       "['Business and Financial',\n",
       " 'Computer and MathematicalArchitecture and EngineeringLife, Physical, and Social Science',\n",
       " 'Community and Social Service',\n",
       " 'Legal',\n",
       " 'Education, Training, and Library',\n",
       " 'Arts, Design, Entertainment, Sports, and Media',\n",
       " 'Healthcare Practitioners and Technical',\n",
       " 'Healthcare Support',\n",
       " 'Protective Service',\n",
       " 'Food Preparation and Serving Related',\n",
       " 'Building and Grounds Cleaning and Maintenance',\n",
       " 'Personal Care and Service',\n",
       " 'Sales and Related',\n",
       " 'Office and Administrative Support',\n",
       " 'Farming, Fishing, and Forestry',\n",
       " 'Construction and Extraction',\n",
       " 'Installation, Maintenance, and Repair',\n",
       " 'Production',\n",
       " 'Transportation and Material Moving']"
      ]
     },
     "execution_count": 45,
     "metadata": {},
     "output_type": "execute_result"
    }
   ],
   "source": [
    "Secondary_labor_force_catagory"
   ]
  },
  {
   "cell_type": "code",
   "execution_count": 46,
   "metadata": {
    "collapsed": true
   },
   "outputs": [],
   "source": [
    "# Define Labor force Catagory function to choose the Labor force Catagory as part of the Selection Widgets\n",
    "def f(Secondary_labor):\n",
    "    return Secondary_labor"
   ]
  },
  {
   "cell_type": "code",
   "execution_count": 47,
   "metadata": {},
   "outputs": [
    {
     "data": {
      "application/vnd.jupyter.widget-view+json": {
       "model_id": "a432f222442e4c09b35418c2ba32f111",
       "version_major": 2,
       "version_minor": 0
      },
      "text/html": [
       "<p>Failed to display Jupyter Widget of type <code>interactive</code>.</p>\n",
       "<p>\n",
       "  If you're reading this message in Jupyter Notebook or JupyterLab, it may mean\n",
       "  that the widgets JavaScript is still loading. If this message persists, it\n",
       "  likely means that the widgets JavaScript library is either not installed or\n",
       "  not enabled. See the <a href=\"https://ipywidgets.readthedocs.io/en/stable/user_install.html\">Jupyter\n",
       "  Widgets Documentation</a> for setup instructions.\n",
       "</p>\n",
       "<p>\n",
       "  If you're reading this message in another notebook frontend (for example, a static\n",
       "  rendering on GitHub or <a href=\"https://nbviewer.jupyter.org/\">NBViewer</a>),\n",
       "  it may mean that your frontend doesn't currently support widgets.\n",
       "</p>\n"
      ],
      "text/plain": [
       "interactive(children=(Dropdown(description='Secondary_labor', options=('Business and Financial', 'Computer and MathematicalArchitecture and EngineeringLife, Physical, and Social Science', 'Community and Social Service', 'Legal', 'Education, Training, and Library', 'Arts, Design, Entertainment, Sports, and Media', 'Healthcare Practitioners and Technical', 'Healthcare Support', 'Protective Service', 'Food Preparation and Serving Related', 'Building and Grounds Cleaning and Maintenance', 'Personal Care and Service', 'Sales and Related', 'Office and Administrative Support', 'Farming, Fishing, and Forestry', 'Construction and Extraction', 'Installation, Maintenance, and Repair', 'Production', 'Transportation and Material Moving'), value='Business and Financial'), Output()), _dom_classes=('widget-interact',))"
      ]
     },
     "metadata": {},
     "output_type": "display_data"
    }
   ],
   "source": [
    "# Create Lists using interactive\n",
    "secondary_labor_force = interactive(f,Secondary_labor=Secondary_labor_force_catagory)\n",
    "\n",
    "# You can also view this in a notebook without using display.\n",
    "display(secondary_labor_force)"
   ]
  },
  {
   "cell_type": "code",
   "execution_count": 48,
   "metadata": {
    "collapsed": true
   },
   "outputs": [],
   "source": [
    "optional_labor_force_catagory = [x for x in Secondary_labor_force_catagory if x != secondary_labor_force.result]"
   ]
  },
  {
   "cell_type": "code",
   "execution_count": 49,
   "metadata": {
    "scrolled": true
   },
   "outputs": [
    {
     "data": {
      "text/plain": [
       "['Computer and MathematicalArchitecture and EngineeringLife, Physical, and Social Science',\n",
       " 'Community and Social Service',\n",
       " 'Legal',\n",
       " 'Education, Training, and Library',\n",
       " 'Arts, Design, Entertainment, Sports, and Media',\n",
       " 'Healthcare Practitioners and Technical',\n",
       " 'Healthcare Support',\n",
       " 'Protective Service',\n",
       " 'Food Preparation and Serving Related',\n",
       " 'Building and Grounds Cleaning and Maintenance',\n",
       " 'Personal Care and Service',\n",
       " 'Sales and Related',\n",
       " 'Office and Administrative Support',\n",
       " 'Farming, Fishing, and Forestry',\n",
       " 'Construction and Extraction',\n",
       " 'Installation, Maintenance, and Repair',\n",
       " 'Production',\n",
       " 'Transportation and Material Moving']"
      ]
     },
     "execution_count": 49,
     "metadata": {},
     "output_type": "execute_result"
    }
   ],
   "source": [
    "optional_labor_force_catagory"
   ]
  },
  {
   "cell_type": "code",
   "execution_count": 50,
   "metadata": {},
   "outputs": [
    {
     "data": {
      "application/vnd.jupyter.widget-view+json": {
       "model_id": "59375aa0c9184a02a14e3dce965aeca8",
       "version_major": 2,
       "version_minor": 0
      },
      "text/html": [
       "<p>Failed to display Jupyter Widget of type <code>SelectMultiple</code>.</p>\n",
       "<p>\n",
       "  If you're reading this message in Jupyter Notebook or JupyterLab, it may mean\n",
       "  that the widgets JavaScript is still loading. If this message persists, it\n",
       "  likely means that the widgets JavaScript library is either not installed or\n",
       "  not enabled. See the <a href=\"https://ipywidgets.readthedocs.io/en/stable/user_install.html\">Jupyter\n",
       "  Widgets Documentation</a> for setup instructions.\n",
       "</p>\n",
       "<p>\n",
       "  If you're reading this message in another notebook frontend (for example, a static\n",
       "  rendering on GitHub or <a href=\"https://nbviewer.jupyter.org/\">NBViewer</a>),\n",
       "  it may mean that your frontend doesn't currently support widgets.\n",
       "</p>\n"
      ],
      "text/plain": [
       "SelectMultiple(description='Optional Labor Force', options=('Computer and MathematicalArchitecture and EngineeringLife, Physical, and Social Science', 'Community and Social Service', 'Legal', 'Education, Training, and Library', 'Arts, Design, Entertainment, Sports, and Media', 'Healthcare Practitioners and Technical', 'Healthcare Support', 'Protective Service', 'Food Preparation and Serving Related', 'Building and Grounds Cleaning and Maintenance', 'Personal Care and Service', 'Sales and Related', 'Office and Administrative Support', 'Farming, Fishing, and Forestry', 'Construction and Extraction', 'Installation, Maintenance, and Repair', 'Production', 'Transportation and Material Moving'), rows=20, value=())"
      ]
     },
     "metadata": {},
     "output_type": "display_data"
    }
   ],
   "source": [
    "optional = widgets.SelectMultiple(\n",
    "    options=optional_labor_force_catagory,\n",
    "    #value=['Oranges'],\n",
    "    rows=20,\n",
    "    description='Optional Labor Force',\n",
    "    disabled=False\n",
    ")\n",
    "display(optional)"
   ]
  },
  {
   "cell_type": "code",
   "execution_count": 51,
   "metadata": {},
   "outputs": [
    {
     "data": {
      "text/plain": [
       "('Healthcare Practitioners and Technical',\n",
       " 'Healthcare Support',\n",
       " 'Protective Service',\n",
       " 'Food Preparation and Serving Related')"
      ]
     },
     "execution_count": 51,
     "metadata": {},
     "output_type": "execute_result"
    }
   ],
   "source": [
    "optional.value"
   ]
  },
  {
   "cell_type": "code",
   "execution_count": null,
   "metadata": {
    "collapsed": true
   },
   "outputs": [],
   "source": []
  }
 ],
 "metadata": {
  "kernelspec": {
   "display_name": "Python [conda env:PythonData]",
   "language": "python",
   "name": "conda-env-PythonData-py"
  },
  "language_info": {
   "codemirror_mode": {
    "name": "ipython",
    "version": 3
   },
   "file_extension": ".py",
   "mimetype": "text/x-python",
   "name": "python",
   "nbconvert_exporter": "python",
   "pygments_lexer": "ipython3",
   "version": "3.6.2"
  }
 },
 "nbformat": 4,
 "nbformat_minor": 2
}
