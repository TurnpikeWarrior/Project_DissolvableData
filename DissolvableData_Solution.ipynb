{
 "cells": [
  {
   "cell_type": "markdown",
   "metadata": {},
   "source": [
    "# Team - Dissolvable Data\n",
    "\n",
    "\n",
    "## Our Project is to dissolve all the data to find a list of recommended suitable cities to have a headquarter/branch of any company based on its specific parameters.\n",
    "\n",
    "### The Input Parameters are \n",
    "\n",
    "    1. Minimum Population in that city  \n",
    "    2. Primary Labor Force Required - Only one from 22 Occupations  \n",
    "    3. Secondry Labor Force Requried - Only one from 21 Occupations  \n",
    "    4. Optional Labor Force Require - Zero or more from 20 Occupations  \n",
    "    5. Weightage for Population - From Zero to 10   \n",
    "    6. Weightage for Labor Force - From Zero to 10   \n",
    "    7. Weightage for Proximity to Airport - from Zero to 10 - If all weightages are zero, it is automatically  \n",
    "       takes as 1 "
   ]
  },
  {
   "cell_type": "markdown",
   "metadata": {},
   "source": [
    "#### Dependencies Libraries "
   ]
  },
  {
   "cell_type": "code",
   "execution_count": 1,
   "metadata": {},
   "outputs": [
    {
     "data": {
      "text/html": [
       "<style> .widget-hbox .widget-label { max-width:350ex; text-align:left} </style>"
      ],
      "text/plain": [
       "<IPython.core.display.HTML object>"
      ]
     },
     "execution_count": 1,
     "metadata": {},
     "output_type": "execute_result"
    }
   ],
   "source": [
    "# Dependencies Libraries \n",
    "import pandas as pd\n",
    "import numpy as np\n",
    "import matplotlib.pyplot as plt\n",
    "import seaborn as sns\n",
    "import requests as req\n",
    "import json\n",
    "import ipywidgets as widgets\n",
    "from IPython.display import display, HTML\n",
    "from ipywidgets import interactive, Layout, Textarea, Dropdown, Label\n",
    "HTML('<style> .widget-hbox .widget-label { max-width:350ex; text-align:left} </style>')"
   ]
  },
  {
   "cell_type": "markdown",
   "metadata": {},
   "source": [
    "#### Creating the list for Population and Labor Force Catagory"
   ]
  },
  {
   "cell_type": "code",
   "execution_count": 2,
   "metadata": {
    "collapsed": true
   },
   "outputs": [],
   "source": [
    "# Population Catagory Options in a list \n",
    "population_catagory = ['>=100000','>=250000','>=500000','>=1000000']\n",
    "\n",
    "labor_force_catagory = ['Management','Business and Financial Operations','Computer and Mathematical',\n",
    "                        'Architecture and Engineering','Life, Physical, and Social Science',\n",
    "                        'Community and Social Service','Legal','Education, Training, and Library',\n",
    "                        'Arts, Design, Entertainment, Sports, and Media','Healthcare Practitioners and Technical',\n",
    "                        'Healthcare Support','Protective Service','Food Preparation and Serving Related',\n",
    "                        'Building and Grounds Cleaning and Maintenance','Personal Care and Service',\n",
    "                        'Sales and Related','Office and Administrative Support','Farming, Fishing, and Forestry',\n",
    "                        'Construction and Extraction','Installation, Maintenance, and Repair','Production',\n",
    "                        'Transportation and Material Moving']"
   ]
  },
  {
   "cell_type": "markdown",
   "metadata": {},
   "source": [
    "#### Definition for the layout for the Input Selection "
   ]
  },
  {
   "cell_type": "code",
   "execution_count": 3,
   "metadata": {
    "collapsed": true
   },
   "outputs": [],
   "source": [
    "form_item_layout = Layout(\n",
    "    display='flex',\n",
    "    #flex_flow='row',\n",
    "    justify_content='space-between',\n",
    "    flex_flow='column',\n",
    "    border='solid 2px',\n",
    "    align_items='stretch',\n",
    "    width='70%'\n",
    ")"
   ]
  },
  {
   "cell_type": "markdown",
   "metadata": {},
   "source": [
    "#### Loading the Census Data to a DataFrame"
   ]
  },
  {
   "cell_type": "code",
   "execution_count": 4,
   "metadata": {},
   "outputs": [
    {
     "data": {
      "text/html": [
       "<div>\n",
       "<style>\n",
       "    .dataframe thead tr:only-child th {\n",
       "        text-align: right;\n",
       "    }\n",
       "\n",
       "    .dataframe thead th {\n",
       "        text-align: left;\n",
       "    }\n",
       "\n",
       "    .dataframe tbody tr th {\n",
       "        vertical-align: top;\n",
       "    }\n",
       "</style>\n",
       "<table border=\"1\" class=\"dataframe\">\n",
       "  <thead>\n",
       "    <tr style=\"text-align: right;\">\n",
       "      <th></th>\n",
       "      <th>City</th>\n",
       "      <th>Population</th>\n",
       "      <th>County</th>\n",
       "      <th>State</th>\n",
       "      <th>FullState</th>\n",
       "      <th>MSA</th>\n",
       "      <th>Population Score</th>\n",
       "      <th>Closest Airport</th>\n",
       "      <th>Proximity to Airport</th>\n",
       "      <th>Airport Score</th>\n",
       "    </tr>\n",
       "  </thead>\n",
       "  <tbody>\n",
       "    <tr>\n",
       "      <th>0</th>\n",
       "      <td>New York</td>\n",
       "      <td>8537673</td>\n",
       "      <td>Bronx County</td>\n",
       "      <td>NY</td>\n",
       "      <td>New York</td>\n",
       "      <td>New York-Jersey City-White Plains, NY-NJ Metro...</td>\n",
       "      <td>10.0</td>\n",
       "      <td>Newark Liberty International Airport</td>\n",
       "      <td>28 min</td>\n",
       "      <td>0.8</td>\n",
       "    </tr>\n",
       "    <tr>\n",
       "      <th>1</th>\n",
       "      <td>Los Angeles</td>\n",
       "      <td>3976322</td>\n",
       "      <td>Los Angeles County</td>\n",
       "      <td>CA</td>\n",
       "      <td>California</td>\n",
       "      <td>Los Angeles-Long Beach-Glendale, CA Metropolit...</td>\n",
       "      <td>10.0</td>\n",
       "      <td>Los Angeles International Airport</td>\n",
       "      <td>25 min</td>\n",
       "      <td>2.0</td>\n",
       "    </tr>\n",
       "    <tr>\n",
       "      <th>2</th>\n",
       "      <td>Chicago</td>\n",
       "      <td>2704958</td>\n",
       "      <td>Cook County</td>\n",
       "      <td>IL</td>\n",
       "      <td>Illinois</td>\n",
       "      <td>Chicago-Naperville-Arlington Heights, IL Metro...</td>\n",
       "      <td>10.0</td>\n",
       "      <td>O'Hare International Airport</td>\n",
       "      <td>31 min</td>\n",
       "      <td>0.0</td>\n",
       "    </tr>\n",
       "    <tr>\n",
       "      <th>3</th>\n",
       "      <td>Houston</td>\n",
       "      <td>2303482</td>\n",
       "      <td>Harris County</td>\n",
       "      <td>TX</td>\n",
       "      <td>Texas</td>\n",
       "      <td>Houston-The Woodlands-Sugar Land, TX</td>\n",
       "      <td>10.0</td>\n",
       "      <td>George Bush Intercontinental Airport</td>\n",
       "      <td>21 min</td>\n",
       "      <td>3.6</td>\n",
       "    </tr>\n",
       "    <tr>\n",
       "      <th>4</th>\n",
       "      <td>Phoenix</td>\n",
       "      <td>1615017</td>\n",
       "      <td>Maricopa County</td>\n",
       "      <td>AZ</td>\n",
       "      <td>Arizona</td>\n",
       "      <td>Phoenix-Mesa-Scottsdale, AZ</td>\n",
       "      <td>10.0</td>\n",
       "      <td>Phoenix Sky Harbor International Airport</td>\n",
       "      <td>9 min</td>\n",
       "      <td>8.4</td>\n",
       "    </tr>\n",
       "  </tbody>\n",
       "</table>\n",
       "</div>"
      ],
      "text/plain": [
       "          City  Population              County State   FullState  \\\n",
       "0     New York     8537673        Bronx County    NY    New York   \n",
       "1  Los Angeles     3976322  Los Angeles County    CA  California   \n",
       "2      Chicago     2704958         Cook County    IL    Illinois   \n",
       "3      Houston     2303482       Harris County    TX       Texas   \n",
       "4      Phoenix     1615017     Maricopa County    AZ     Arizona   \n",
       "\n",
       "                                                 MSA  Population Score  \\\n",
       "0  New York-Jersey City-White Plains, NY-NJ Metro...              10.0   \n",
       "1  Los Angeles-Long Beach-Glendale, CA Metropolit...              10.0   \n",
       "2  Chicago-Naperville-Arlington Heights, IL Metro...              10.0   \n",
       "3               Houston-The Woodlands-Sugar Land, TX              10.0   \n",
       "4                        Phoenix-Mesa-Scottsdale, AZ              10.0   \n",
       "\n",
       "                            Closest Airport Proximity to Airport  \\\n",
       "0      Newark Liberty International Airport               28 min   \n",
       "1         Los Angeles International Airport               25 min   \n",
       "2              O'Hare International Airport               31 min   \n",
       "3      George Bush Intercontinental Airport               21 min   \n",
       "4  Phoenix Sky Harbor International Airport                9 min   \n",
       "\n",
       "   Airport Score  \n",
       "0            0.8  \n",
       "1            2.0  \n",
       "2            0.0  \n",
       "3            3.6  \n",
       "4            8.4  "
      ]
     },
     "execution_count": 4,
     "metadata": {},
     "output_type": "execute_result"
    }
   ],
   "source": [
    "census = pd.read_csv('Census.csv', encoding=\"ISO-8859-1\")\n",
    "census.head()"
   ]
  },
  {
   "cell_type": "markdown",
   "metadata": {},
   "source": [
    "#### List of Attributes in Census Data"
   ]
  },
  {
   "cell_type": "code",
   "execution_count": 5,
   "metadata": {},
   "outputs": [
    {
     "name": "stdout",
     "output_type": "stream",
     "text": [
      "<class 'pandas.core.frame.DataFrame'>\n",
      "RangeIndex: 303 entries, 0 to 302\n",
      "Data columns (total 10 columns):\n",
      "City                    303 non-null object\n",
      "Population              303 non-null int64\n",
      "County                  303 non-null object\n",
      "State                   303 non-null object\n",
      "FullState               303 non-null object\n",
      "MSA                     303 non-null object\n",
      "Population Score        303 non-null float64\n",
      "Closest Airport         303 non-null object\n",
      "Proximity to Airport    303 non-null object\n",
      "Airport Score           303 non-null float64\n",
      "dtypes: float64(2), int64(1), object(7)\n",
      "memory usage: 23.8+ KB\n"
     ]
    }
   ],
   "source": [
    "census.info()"
   ]
  },
  {
   "cell_type": "markdown",
   "metadata": {},
   "source": [
    "#### Loading the Labor Force Data to a DataFrame"
   ]
  },
  {
   "cell_type": "code",
   "execution_count": 6,
   "metadata": {},
   "outputs": [
    {
     "data": {
      "text/html": [
       "<div>\n",
       "<style>\n",
       "    .dataframe thead tr:only-child th {\n",
       "        text-align: right;\n",
       "    }\n",
       "\n",
       "    .dataframe thead th {\n",
       "        text-align: left;\n",
       "    }\n",
       "\n",
       "    .dataframe tbody tr th {\n",
       "        vertical-align: top;\n",
       "    }\n",
       "</style>\n",
       "<table border=\"1\" class=\"dataframe\">\n",
       "  <thead>\n",
       "    <tr style=\"text-align: right;\">\n",
       "      <th></th>\n",
       "      <th>AREA_NAME</th>\n",
       "      <th>OCC_TITLE</th>\n",
       "      <th>TOT_EMP</th>\n",
       "      <th>JOBS_1000</th>\n",
       "      <th>LOC QUOTIENT</th>\n",
       "      <th>Score</th>\n",
       "    </tr>\n",
       "  </thead>\n",
       "  <tbody>\n",
       "    <tr>\n",
       "      <th>0</th>\n",
       "      <td>Abilene, TX</td>\n",
       "      <td>Management</td>\n",
       "      <td>2,030</td>\n",
       "      <td>31.741</td>\n",
       "      <td>0.63</td>\n",
       "      <td>1.3</td>\n",
       "    </tr>\n",
       "    <tr>\n",
       "      <th>1</th>\n",
       "      <td>Abilene, TX</td>\n",
       "      <td>Business and Financial Operations</td>\n",
       "      <td>2,230</td>\n",
       "      <td>34.804</td>\n",
       "      <td>0.67</td>\n",
       "      <td>1.7</td>\n",
       "    </tr>\n",
       "    <tr>\n",
       "      <th>2</th>\n",
       "      <td>Abilene, TX</td>\n",
       "      <td>Computer and Mathematical</td>\n",
       "      <td>920</td>\n",
       "      <td>14.402</td>\n",
       "      <td>0.49</td>\n",
       "      <td>0.0</td>\n",
       "    </tr>\n",
       "    <tr>\n",
       "      <th>3</th>\n",
       "      <td>Abilene, TX</td>\n",
       "      <td>Architecture and Engineering</td>\n",
       "      <td>710</td>\n",
       "      <td>11.068</td>\n",
       "      <td>0.62</td>\n",
       "      <td>1.2</td>\n",
       "    </tr>\n",
       "    <tr>\n",
       "      <th>4</th>\n",
       "      <td>Abilene, TX</td>\n",
       "      <td>Life, Physical, and Social Science</td>\n",
       "      <td>380</td>\n",
       "      <td>5.901</td>\n",
       "      <td>0.72</td>\n",
       "      <td>2.2</td>\n",
       "    </tr>\n",
       "  </tbody>\n",
       "</table>\n",
       "</div>"
      ],
      "text/plain": [
       "     AREA_NAME                           OCC_TITLE TOT_EMP  JOBS_1000  \\\n",
       "0  Abilene, TX                          Management   2,030     31.741   \n",
       "1  Abilene, TX   Business and Financial Operations   2,230     34.804   \n",
       "2  Abilene, TX           Computer and Mathematical     920     14.402   \n",
       "3  Abilene, TX        Architecture and Engineering     710     11.068   \n",
       "4  Abilene, TX  Life, Physical, and Social Science     380      5.901   \n",
       "\n",
       "   LOC QUOTIENT  Score  \n",
       "0          0.63    1.3  \n",
       "1          0.67    1.7  \n",
       "2          0.49    0.0  \n",
       "3          0.62    1.2  \n",
       "4          0.72    2.2  "
      ]
     },
     "execution_count": 6,
     "metadata": {},
     "output_type": "execute_result"
    }
   ],
   "source": [
    "laborforce = pd.read_csv('LaborForce.csv')\n",
    "laborforce.head()"
   ]
  },
  {
   "cell_type": "markdown",
   "metadata": {},
   "source": [
    "#### List of Attributes in Labor Force Data"
   ]
  },
  {
   "cell_type": "markdown",
   "metadata": {},
   "source": [
    "#### Define Population function to choose the population catagory as part of the Selection Widgets"
   ]
  },
  {
   "cell_type": "code",
   "execution_count": 7,
   "metadata": {},
   "outputs": [
    {
     "data": {
      "application/vnd.jupyter.widget-view+json": {
       "model_id": "7bcd7732fdbd43be91e67f69e213cd8a",
       "version_major": 2,
       "version_minor": 0
      },
      "text/html": [
       "<p>Failed to display Jupyter Widget of type <code>interactive</code>.</p>\n",
       "<p>\n",
       "  If you're reading this message in Jupyter Notebook or JupyterLab, it may mean\n",
       "  that the widgets JavaScript is still loading. If this message persists, it\n",
       "  likely means that the widgets JavaScript library is either not installed or\n",
       "  not enabled. See the <a href=\"https://ipywidgets.readthedocs.io/en/stable/user_install.html\">Jupyter\n",
       "  Widgets Documentation</a> for setup instructions.\n",
       "</p>\n",
       "<p>\n",
       "  If you're reading this message in another notebook frontend (for example, a static\n",
       "  rendering on GitHub or <a href=\"https://nbviewer.jupyter.org/\">NBViewer</a>),\n",
       "  it may mean that your frontend doesn't currently support widgets.\n",
       "</p>\n"
      ],
      "text/plain": [
       "interactive(children=(Dropdown(description='Population', options=('>=100000', '>=250000', '>=500000', '>=1000000'), value='>=100000'), Output()), _dom_classes=('widget-interact',))"
      ]
     },
     "metadata": {},
     "output_type": "display_data"
    }
   ],
   "source": [
    "# Define Population function to choose the population catagory as part of the Selection Widgets\n",
    "def f(Population):\n",
    "    if Population =='>=100000':\n",
    "        Population = 100000\n",
    "    elif Population == '>=250000':\n",
    "        Population = 250000\n",
    "    elif Population == '>=500000':\n",
    "        Population = 500000\n",
    "    else:\n",
    "        Population = 1000000\n",
    "    return Population\n",
    "\n",
    "# Create Lists using interactive\n",
    "Population = interactive(f,Population=population_catagory)\n",
    "                         #,layout=form_item_layout)\n",
    "\n",
    "# You can also view this in a notebook without using display.\n",
    "display(Population)"
   ]
  },
  {
   "cell_type": "markdown",
   "metadata": {},
   "source": [
    "#### This is to show the user selection value for the Minimum Population"
   ]
  },
  {
   "cell_type": "code",
   "execution_count": 8,
   "metadata": {},
   "outputs": [
    {
     "data": {
      "text/plain": [
       "100000"
      ]
     },
     "execution_count": 8,
     "metadata": {},
     "output_type": "execute_result"
    }
   ],
   "source": [
    "# This is to show the user selection value for the Minimum Population \n",
    "Minimum_population = Population.result\n",
    "Minimum_population"
   ]
  },
  {
   "cell_type": "markdown",
   "metadata": {},
   "source": [
    "#### Define Labor force Catagory function to choose the Labor force Catagory as part of the Selection Widgets"
   ]
  },
  {
   "cell_type": "code",
   "execution_count": 9,
   "metadata": {},
   "outputs": [
    {
     "data": {
      "application/vnd.jupyter.widget-view+json": {
       "model_id": "115d566be4e44f7db12bbb07346832f3",
       "version_major": 2,
       "version_minor": 0
      },
      "text/html": [
       "<p>Failed to display Jupyter Widget of type <code>interactive</code>.</p>\n",
       "<p>\n",
       "  If you're reading this message in Jupyter Notebook or JupyterLab, it may mean\n",
       "  that the widgets JavaScript is still loading. If this message persists, it\n",
       "  likely means that the widgets JavaScript library is either not installed or\n",
       "  not enabled. See the <a href=\"https://ipywidgets.readthedocs.io/en/stable/user_install.html\">Jupyter\n",
       "  Widgets Documentation</a> for setup instructions.\n",
       "</p>\n",
       "<p>\n",
       "  If you're reading this message in another notebook frontend (for example, a static\n",
       "  rendering on GitHub or <a href=\"https://nbviewer.jupyter.org/\">NBViewer</a>),\n",
       "  it may mean that your frontend doesn't currently support widgets.\n",
       "</p>\n"
      ],
      "text/plain": [
       "interactive(children=(Dropdown(description='Primary', options=('Management', 'Business and Financial Operations', 'Computer and Mathematical', 'Architecture and Engineering', 'Life, Physical, and Social Science', 'Community and Social Service', 'Legal', 'Education, Training, and Library', 'Arts, Design, Entertainment, Sports, and Media', 'Healthcare Practitioners and Technical', 'Healthcare Support', 'Protective Service', 'Food Preparation and Serving Related', 'Building and Grounds Cleaning and Maintenance', 'Personal Care and Service', 'Sales and Related', 'Office and Administrative Support', 'Farming, Fishing, and Forestry', 'Construction and Extraction', 'Installation, Maintenance, and Repair', 'Production', 'Transportation and Material Moving'), value='Management'), Output()), _dom_classes=('widget-interact',))"
      ]
     },
     "metadata": {},
     "output_type": "display_data"
    }
   ],
   "source": [
    "# Define Labor force Catagory function to choose the Labor force Catagory as part of the Selection Widgets\n",
    "def f(Primary):\n",
    "    return Primary\n",
    "# Create Lists using interactive\n",
    "primary = interactive(f,Primary=labor_force_catagory,layout=form_item_layout)\n",
    "\n",
    "# You can also view this in a notebook without using display.\n",
    "display(primary)"
   ]
  },
  {
   "cell_type": "markdown",
   "metadata": {},
   "source": [
    "#### This is to show the user selection value for the Primary Labor Force"
   ]
  },
  {
   "cell_type": "code",
   "execution_count": 10,
   "metadata": {},
   "outputs": [
    {
     "data": {
      "text/plain": [
       "'Management'"
      ]
     },
     "execution_count": 10,
     "metadata": {},
     "output_type": "execute_result"
    }
   ],
   "source": [
    "Primary = primary.result\n",
    "Primary"
   ]
  },
  {
   "cell_type": "markdown",
   "metadata": {},
   "source": [
    "#### This is to have an option for the user to choose the Secondary Labor Force form the list of values other then Primary"
   ]
  },
  {
   "cell_type": "code",
   "execution_count": 11,
   "metadata": {
    "collapsed": true
   },
   "outputs": [],
   "source": [
    "Secondary_labor_force_catagory = [x for x in labor_force_catagory if x != Primary]"
   ]
  },
  {
   "cell_type": "code",
   "execution_count": 12,
   "metadata": {},
   "outputs": [
    {
     "data": {
      "application/vnd.jupyter.widget-view+json": {
       "model_id": "f3905398cdb740e59fd013c151e108f8",
       "version_major": 2,
       "version_minor": 0
      },
      "text/html": [
       "<p>Failed to display Jupyter Widget of type <code>interactive</code>.</p>\n",
       "<p>\n",
       "  If you're reading this message in Jupyter Notebook or JupyterLab, it may mean\n",
       "  that the widgets JavaScript is still loading. If this message persists, it\n",
       "  likely means that the widgets JavaScript library is either not installed or\n",
       "  not enabled. See the <a href=\"https://ipywidgets.readthedocs.io/en/stable/user_install.html\">Jupyter\n",
       "  Widgets Documentation</a> for setup instructions.\n",
       "</p>\n",
       "<p>\n",
       "  If you're reading this message in another notebook frontend (for example, a static\n",
       "  rendering on GitHub or <a href=\"https://nbviewer.jupyter.org/\">NBViewer</a>),\n",
       "  it may mean that your frontend doesn't currently support widgets.\n",
       "</p>\n"
      ],
      "text/plain": [
       "interactive(children=(Dropdown(description='Secondary', options=('Business and Financial Operations', 'Computer and Mathematical', 'Architecture and Engineering', 'Life, Physical, and Social Science', 'Community and Social Service', 'Legal', 'Education, Training, and Library', 'Arts, Design, Entertainment, Sports, and Media', 'Healthcare Practitioners and Technical', 'Healthcare Support', 'Protective Service', 'Food Preparation and Serving Related', 'Building and Grounds Cleaning and Maintenance', 'Personal Care and Service', 'Sales and Related', 'Office and Administrative Support', 'Farming, Fishing, and Forestry', 'Construction and Extraction', 'Installation, Maintenance, and Repair', 'Production', 'Transportation and Material Moving'), value='Business and Financial Operations'), Output()), _dom_classes=('widget-interact',))"
      ]
     },
     "metadata": {},
     "output_type": "display_data"
    }
   ],
   "source": [
    "# Define Labor force Catagory function to choose the Labor force Catagory as part of the Selection Widgets\n",
    "def f(Secondary):\n",
    "    return Secondary\n",
    "# Create Lists using interactive\n",
    "secondary = interactive(f,Secondary=Secondary_labor_force_catagory,layout=form_item_layout)\n",
    "\n",
    "# You can also view this in a notebook without using display.\n",
    "display(secondary)"
   ]
  },
  {
   "cell_type": "markdown",
   "metadata": {},
   "source": [
    "#### This is to show the user selection value for the Secondary Labor Force"
   ]
  },
  {
   "cell_type": "markdown",
   "metadata": {},
   "source": [
    " "
   ]
  },
  {
   "cell_type": "code",
   "execution_count": 13,
   "metadata": {
    "scrolled": true
   },
   "outputs": [
    {
     "data": {
      "text/plain": [
       "'Business and Financial Operations'"
      ]
     },
     "execution_count": 13,
     "metadata": {},
     "output_type": "execute_result"
    }
   ],
   "source": [
    "Secondary = secondary.result\n",
    "Secondary"
   ]
  },
  {
   "cell_type": "markdown",
   "metadata": {},
   "source": [
    "#### This is to have an option for the user to choose the Optional Labor Force form the list of values other then Primary and Secondary"
   ]
  },
  {
   "cell_type": "code",
   "execution_count": 14,
   "metadata": {
    "collapsed": true
   },
   "outputs": [],
   "source": [
    "optional_labor_force_catagory = [x for x in Secondary_labor_force_catagory if x != secondary.result]"
   ]
  },
  {
   "cell_type": "code",
   "execution_count": 15,
   "metadata": {},
   "outputs": [
    {
     "data": {
      "application/vnd.jupyter.widget-view+json": {
       "model_id": "e201aee4375644739cc133a8f5a56bc6",
       "version_major": 2,
       "version_minor": 0
      },
      "text/html": [
       "<p>Failed to display Jupyter Widget of type <code>SelectMultiple</code>.</p>\n",
       "<p>\n",
       "  If you're reading this message in Jupyter Notebook or JupyterLab, it may mean\n",
       "  that the widgets JavaScript is still loading. If this message persists, it\n",
       "  likely means that the widgets JavaScript library is either not installed or\n",
       "  not enabled. See the <a href=\"https://ipywidgets.readthedocs.io/en/stable/user_install.html\">Jupyter\n",
       "  Widgets Documentation</a> for setup instructions.\n",
       "</p>\n",
       "<p>\n",
       "  If you're reading this message in another notebook frontend (for example, a static\n",
       "  rendering on GitHub or <a href=\"https://nbviewer.jupyter.org/\">NBViewer</a>),\n",
       "  it may mean that your frontend doesn't currently support widgets.\n",
       "</p>\n"
      ],
      "text/plain": [
       "SelectMultiple(description='Optional', layout=Layout(align_items='stretch', border='solid 2px', display='flex', flex_flow='column', justify_content='space-between', width='70%'), options=('Computer and Mathematical', 'Architecture and Engineering', 'Life, Physical, and Social Science', 'Community and Social Service', 'Legal', 'Education, Training, and Library', 'Arts, Design, Entertainment, Sports, and Media', 'Healthcare Practitioners and Technical', 'Healthcare Support', 'Protective Service', 'Food Preparation and Serving Related', 'Building and Grounds Cleaning and Maintenance', 'Personal Care and Service', 'Sales and Related', 'Office and Administrative Support', 'Farming, Fishing, and Forestry', 'Construction and Extraction', 'Installation, Maintenance, and Repair', 'Production', 'Transportation and Material Moving'), rows=20, value=())"
      ]
     },
     "metadata": {},
     "output_type": "display_data"
    }
   ],
   "source": [
    "optional = widgets.SelectMultiple(\n",
    "    options=optional_labor_force_catagory,\n",
    "    #value=['Oranges'],\n",
    "    layout=form_item_layout,\n",
    "    rows=20,\n",
    "    description='Optional',\n",
    "    disabled=False\n",
    ")\n",
    "display(optional)"
   ]
  },
  {
   "cell_type": "markdown",
   "metadata": {},
   "source": [
    "#### This is to show the user selection value for the Optional Labor Force"
   ]
  },
  {
   "cell_type": "code",
   "execution_count": 16,
   "metadata": {},
   "outputs": [
    {
     "data": {
      "text/plain": [
       "()"
      ]
     },
     "execution_count": 16,
     "metadata": {},
     "output_type": "execute_result"
    }
   ],
   "source": [
    "optional.value"
   ]
  },
  {
   "cell_type": "markdown",
   "metadata": {},
   "source": [
    "#### Define Population function to choose the Weigtage for the Population"
   ]
  },
  {
   "cell_type": "code",
   "execution_count": 17,
   "metadata": {},
   "outputs": [
    {
     "data": {
      "application/vnd.jupyter.widget-view+json": {
       "model_id": "53c24d0a12724e2d912a9585d1918811",
       "version_major": 2,
       "version_minor": 0
      },
      "text/html": [
       "<p>Failed to display Jupyter Widget of type <code>IntSlider</code>.</p>\n",
       "<p>\n",
       "  If you're reading this message in Jupyter Notebook or JupyterLab, it may mean\n",
       "  that the widgets JavaScript is still loading. If this message persists, it\n",
       "  likely means that the widgets JavaScript library is either not installed or\n",
       "  not enabled. See the <a href=\"https://ipywidgets.readthedocs.io/en/stable/user_install.html\">Jupyter\n",
       "  Widgets Documentation</a> for setup instructions.\n",
       "</p>\n",
       "<p>\n",
       "  If you're reading this message in another notebook frontend (for example, a static\n",
       "  rendering on GitHub or <a href=\"https://nbviewer.jupyter.org/\">NBViewer</a>),\n",
       "  it may mean that your frontend doesn't currently support widgets.\n",
       "</p>\n"
      ],
      "text/plain": [
       "IntSlider(value=1, continuous_update=False, description='Population Weight', max=10, style=SliderStyle(description_width='initial'))"
      ]
     },
     "metadata": {},
     "output_type": "display_data"
    }
   ],
   "source": [
    "style = {'description_width': 'initial'}\n",
    "Pop_weight = widgets.IntSlider(\n",
    "    value=1,\n",
    "    min=0,\n",
    "    max=10,\n",
    "    step=1,\n",
    "    description='Population Weight',\n",
    "    disabled=False,\n",
    "    continuous_update=False,\n",
    "    orientation='horizontal',\n",
    "    readout=True,\n",
    "    readout_format='d',\n",
    "    style=style\n",
    ")\n",
    "\n",
    "display(Pop_weight)"
   ]
  },
  {
   "cell_type": "markdown",
   "metadata": {},
   "source": [
    "#### This is to show the user selection value for the Population Weightage"
   ]
  },
  {
   "cell_type": "code",
   "execution_count": 18,
   "metadata": {},
   "outputs": [
    {
     "data": {
      "text/plain": [
       "1"
      ]
     },
     "execution_count": 18,
     "metadata": {},
     "output_type": "execute_result"
    }
   ],
   "source": [
    "Pop_weight.value"
   ]
  },
  {
   "cell_type": "markdown",
   "metadata": {},
   "source": [
    "#### Define Population function to choose the Weightage for the Labor Force"
   ]
  },
  {
   "cell_type": "code",
   "execution_count": 19,
   "metadata": {},
   "outputs": [
    {
     "data": {
      "application/vnd.jupyter.widget-view+json": {
       "model_id": "62ac9146584d4676b756696ed22ad85c",
       "version_major": 2,
       "version_minor": 0
      },
      "text/html": [
       "<p>Failed to display Jupyter Widget of type <code>IntSlider</code>.</p>\n",
       "<p>\n",
       "  If you're reading this message in Jupyter Notebook or JupyterLab, it may mean\n",
       "  that the widgets JavaScript is still loading. If this message persists, it\n",
       "  likely means that the widgets JavaScript library is either not installed or\n",
       "  not enabled. See the <a href=\"https://ipywidgets.readthedocs.io/en/stable/user_install.html\">Jupyter\n",
       "  Widgets Documentation</a> for setup instructions.\n",
       "</p>\n",
       "<p>\n",
       "  If you're reading this message in another notebook frontend (for example, a static\n",
       "  rendering on GitHub or <a href=\"https://nbviewer.jupyter.org/\">NBViewer</a>),\n",
       "  it may mean that your frontend doesn't currently support widgets.\n",
       "</p>\n"
      ],
      "text/plain": [
       "IntSlider(value=1, continuous_update=False, description='Labor Force Weight', max=10, style=SliderStyle(description_width='initial'))"
      ]
     },
     "metadata": {},
     "output_type": "display_data"
    }
   ],
   "source": [
    "style = {'description_width': 'initial'}\n",
    "Labor_weight = widgets.IntSlider(\n",
    "    value=1,\n",
    "    min=0,\n",
    "    max=10,\n",
    "    step=1,\n",
    "    description='Labor Force Weight',\n",
    "    disabled=False,\n",
    "    continuous_update=False,\n",
    "    orientation='horizontal',\n",
    "    readout=True,\n",
    "    readout_format='d',\n",
    "    style=style\n",
    ")\n",
    "\n",
    "display(Labor_weight)"
   ]
  },
  {
   "cell_type": "markdown",
   "metadata": {},
   "source": [
    "#### This is to show the user selection value for the Labor Force Weightage"
   ]
  },
  {
   "cell_type": "code",
   "execution_count": 20,
   "metadata": {},
   "outputs": [
    {
     "data": {
      "text/plain": [
       "1"
      ]
     },
     "execution_count": 20,
     "metadata": {},
     "output_type": "execute_result"
    }
   ],
   "source": [
    "Labor_weight.value"
   ]
  },
  {
   "cell_type": "markdown",
   "metadata": {},
   "source": [
    "#### Define Population function to choose the Weightage for the Proximity to Airport"
   ]
  },
  {
   "cell_type": "code",
   "execution_count": 21,
   "metadata": {},
   "outputs": [
    {
     "data": {
      "application/vnd.jupyter.widget-view+json": {
       "model_id": "3c7ad296e956439ba13f84e4db332fad",
       "version_major": 2,
       "version_minor": 0
      },
      "text/html": [
       "<p>Failed to display Jupyter Widget of type <code>IntSlider</code>.</p>\n",
       "<p>\n",
       "  If you're reading this message in Jupyter Notebook or JupyterLab, it may mean\n",
       "  that the widgets JavaScript is still loading. If this message persists, it\n",
       "  likely means that the widgets JavaScript library is either not installed or\n",
       "  not enabled. See the <a href=\"https://ipywidgets.readthedocs.io/en/stable/user_install.html\">Jupyter\n",
       "  Widgets Documentation</a> for setup instructions.\n",
       "</p>\n",
       "<p>\n",
       "  If you're reading this message in another notebook frontend (for example, a static\n",
       "  rendering on GitHub or <a href=\"https://nbviewer.jupyter.org/\">NBViewer</a>),\n",
       "  it may mean that your frontend doesn't currently support widgets.\n",
       "</p>\n"
      ],
      "text/plain": [
       "IntSlider(value=1, continuous_update=False, description='Proximity to Airport Weight', max=10, style=SliderStyle(description_width='initial'))"
      ]
     },
     "metadata": {},
     "output_type": "display_data"
    }
   ],
   "source": [
    "style = {'description_width': 'initial'}\n",
    "if (Labor_weight.value == 0 and Pop_weight.value == 0):\n",
    "    Airport_weight = widgets.IntSlider(\n",
    "        value=1,\n",
    "        min=1,\n",
    "        max=10,\n",
    "        step=1,\n",
    "        description='Proximity to Airport Weight',\n",
    "        disabled=False,\n",
    "        continuous_update=False,\n",
    "        orientation='horizontal',\n",
    "        readout=True,\n",
    "        readout_format='d',\n",
    "        style=style\n",
    "    )\n",
    "else:\n",
    "    Airport_weight = widgets.IntSlider(\n",
    "        value=1,\n",
    "        min=0,\n",
    "        max=10,\n",
    "        step=1,\n",
    "        description='Proximity to Airport Weight',\n",
    "        disabled=False,\n",
    "        continuous_update=False,\n",
    "        orientation='horizontal',\n",
    "        readout=True,\n",
    "        readout_format='d',\n",
    "        style=style\n",
    "    )\n",
    "\n",
    "\n",
    "display(Airport_weight)"
   ]
  },
  {
   "cell_type": "markdown",
   "metadata": {},
   "source": [
    "#### This is to show the user selection value for the Proximity to Airport Weightage"
   ]
  },
  {
   "cell_type": "code",
   "execution_count": 22,
   "metadata": {},
   "outputs": [
    {
     "data": {
      "text/plain": [
       "1"
      ]
     },
     "execution_count": 22,
     "metadata": {},
     "output_type": "execute_result"
    }
   ],
   "source": [
    "Airport_weight.value"
   ]
  },
  {
   "cell_type": "markdown",
   "metadata": {},
   "source": [
    "#### Details of the selected inputs by the user"
   ]
  },
  {
   "cell_type": "code",
   "execution_count": 23,
   "metadata": {},
   "outputs": [
    {
     "data": {
      "text/plain": [
       "{'Airport Proximity Weight': 1,\n",
       " 'Labor Force Weight': 1,\n",
       " 'Optional': (),\n",
       " 'Population': 100000,\n",
       " 'Population Weight': 1,\n",
       " 'Primary': 'Management',\n",
       " 'Secondary': 'Business and Financial Operations'}"
      ]
     },
     "execution_count": 23,
     "metadata": {},
     "output_type": "execute_result"
    }
   ],
   "source": [
    "User_input_details = {\n",
    "                    'Population':Population.result,\n",
    "                    'Primary':primary.result,\n",
    "                    'Secondary':secondary.result,\n",
    "                    'Optional':optional.value,\n",
    "                    'Population Weight':Pop_weight.value,\n",
    "                    'Labor Force Weight':Labor_weight.value,\n",
    "                    'Airport Proximity Weight':Airport_weight.value\n",
    "                    }\n",
    "User_input_details"
   ]
  },
  {
   "cell_type": "markdown",
   "metadata": {},
   "source": [
    "#### This to Select the Census Data based on the Minimum Population"
   ]
  },
  {
   "cell_type": "code",
   "execution_count": 24,
   "metadata": {},
   "outputs": [
    {
     "data": {
      "text/html": [
       "<div>\n",
       "<style>\n",
       "    .dataframe thead tr:only-child th {\n",
       "        text-align: right;\n",
       "    }\n",
       "\n",
       "    .dataframe thead th {\n",
       "        text-align: left;\n",
       "    }\n",
       "\n",
       "    .dataframe tbody tr th {\n",
       "        vertical-align: top;\n",
       "    }\n",
       "</style>\n",
       "<table border=\"1\" class=\"dataframe\">\n",
       "  <thead>\n",
       "    <tr style=\"text-align: right;\">\n",
       "      <th></th>\n",
       "      <th>City</th>\n",
       "      <th>Population</th>\n",
       "      <th>County</th>\n",
       "      <th>State</th>\n",
       "      <th>FullState</th>\n",
       "      <th>MSA</th>\n",
       "      <th>Population Score</th>\n",
       "      <th>Closest Airport</th>\n",
       "      <th>Proximity to Airport</th>\n",
       "      <th>Airport Score</th>\n",
       "      <th>Primary Occupation</th>\n",
       "      <th>Secondary Occupation</th>\n",
       "      <th>Additional Occupations</th>\n",
       "    </tr>\n",
       "  </thead>\n",
       "  <tbody>\n",
       "    <tr>\n",
       "      <th>0</th>\n",
       "      <td>New York</td>\n",
       "      <td>8537673</td>\n",
       "      <td>Bronx County</td>\n",
       "      <td>NY</td>\n",
       "      <td>New York</td>\n",
       "      <td>New York-Jersey City-White Plains, NY-NJ Metro...</td>\n",
       "      <td>10.0</td>\n",
       "      <td>Newark Liberty International Airport</td>\n",
       "      <td>28 min</td>\n",
       "      <td>0.8</td>\n",
       "      <td></td>\n",
       "      <td></td>\n",
       "      <td></td>\n",
       "    </tr>\n",
       "    <tr>\n",
       "      <th>1</th>\n",
       "      <td>Los Angeles</td>\n",
       "      <td>3976322</td>\n",
       "      <td>Los Angeles County</td>\n",
       "      <td>CA</td>\n",
       "      <td>California</td>\n",
       "      <td>Los Angeles-Long Beach-Glendale, CA Metropolit...</td>\n",
       "      <td>10.0</td>\n",
       "      <td>Los Angeles International Airport</td>\n",
       "      <td>25 min</td>\n",
       "      <td>2.0</td>\n",
       "      <td></td>\n",
       "      <td></td>\n",
       "      <td></td>\n",
       "    </tr>\n",
       "    <tr>\n",
       "      <th>2</th>\n",
       "      <td>Chicago</td>\n",
       "      <td>2704958</td>\n",
       "      <td>Cook County</td>\n",
       "      <td>IL</td>\n",
       "      <td>Illinois</td>\n",
       "      <td>Chicago-Naperville-Arlington Heights, IL Metro...</td>\n",
       "      <td>10.0</td>\n",
       "      <td>O'Hare International Airport</td>\n",
       "      <td>31 min</td>\n",
       "      <td>0.0</td>\n",
       "      <td></td>\n",
       "      <td></td>\n",
       "      <td></td>\n",
       "    </tr>\n",
       "    <tr>\n",
       "      <th>3</th>\n",
       "      <td>Houston</td>\n",
       "      <td>2303482</td>\n",
       "      <td>Harris County</td>\n",
       "      <td>TX</td>\n",
       "      <td>Texas</td>\n",
       "      <td>Houston-The Woodlands-Sugar Land, TX</td>\n",
       "      <td>10.0</td>\n",
       "      <td>George Bush Intercontinental Airport</td>\n",
       "      <td>21 min</td>\n",
       "      <td>3.6</td>\n",
       "      <td></td>\n",
       "      <td></td>\n",
       "      <td></td>\n",
       "    </tr>\n",
       "    <tr>\n",
       "      <th>4</th>\n",
       "      <td>Phoenix</td>\n",
       "      <td>1615017</td>\n",
       "      <td>Maricopa County</td>\n",
       "      <td>AZ</td>\n",
       "      <td>Arizona</td>\n",
       "      <td>Phoenix-Mesa-Scottsdale, AZ</td>\n",
       "      <td>10.0</td>\n",
       "      <td>Phoenix Sky Harbor International Airport</td>\n",
       "      <td>9 min</td>\n",
       "      <td>8.4</td>\n",
       "      <td></td>\n",
       "      <td></td>\n",
       "      <td></td>\n",
       "    </tr>\n",
       "  </tbody>\n",
       "</table>\n",
       "</div>"
      ],
      "text/plain": [
       "          City  Population              County State   FullState  \\\n",
       "0     New York     8537673        Bronx County    NY    New York   \n",
       "1  Los Angeles     3976322  Los Angeles County    CA  California   \n",
       "2      Chicago     2704958         Cook County    IL    Illinois   \n",
       "3      Houston     2303482       Harris County    TX       Texas   \n",
       "4      Phoenix     1615017     Maricopa County    AZ     Arizona   \n",
       "\n",
       "                                                 MSA  Population Score  \\\n",
       "0  New York-Jersey City-White Plains, NY-NJ Metro...              10.0   \n",
       "1  Los Angeles-Long Beach-Glendale, CA Metropolit...              10.0   \n",
       "2  Chicago-Naperville-Arlington Heights, IL Metro...              10.0   \n",
       "3               Houston-The Woodlands-Sugar Land, TX              10.0   \n",
       "4                        Phoenix-Mesa-Scottsdale, AZ              10.0   \n",
       "\n",
       "                            Closest Airport Proximity to Airport  \\\n",
       "0      Newark Liberty International Airport               28 min   \n",
       "1         Los Angeles International Airport               25 min   \n",
       "2              O'Hare International Airport               31 min   \n",
       "3      George Bush Intercontinental Airport               21 min   \n",
       "4  Phoenix Sky Harbor International Airport                9 min   \n",
       "\n",
       "   Airport Score Primary Occupation Secondary Occupation  \\\n",
       "0            0.8                                           \n",
       "1            2.0                                           \n",
       "2            0.0                                           \n",
       "3            3.6                                           \n",
       "4            8.4                                           \n",
       "\n",
       "  Additional Occupations  \n",
       "0                         \n",
       "1                         \n",
       "2                         \n",
       "3                         \n",
       "4                         "
      ]
     },
     "execution_count": 24,
     "metadata": {},
     "output_type": "execute_result"
    }
   ],
   "source": [
    "census = census[(census[\"Population\"] >= Minimum_population)]\n",
    "census[\"Primary Occupation\"] = \"\"\n",
    "census[\"Secondary Occupation\"] = \"\"\n",
    "census[\"Additional Occupations\"] = \"\"\n",
    "census.head()"
   ]
  },
  {
   "cell_type": "markdown",
   "metadata": {},
   "source": [
    "#### Calculate the Primary Labor Force Scores and update the Census Data"
   ]
  },
  {
   "cell_type": "code",
   "execution_count": 25,
   "metadata": {},
   "outputs": [
    {
     "data": {
      "text/html": [
       "<div>\n",
       "<style>\n",
       "    .dataframe thead tr:only-child th {\n",
       "        text-align: right;\n",
       "    }\n",
       "\n",
       "    .dataframe thead th {\n",
       "        text-align: left;\n",
       "    }\n",
       "\n",
       "    .dataframe tbody tr th {\n",
       "        vertical-align: top;\n",
       "    }\n",
       "</style>\n",
       "<table border=\"1\" class=\"dataframe\">\n",
       "  <thead>\n",
       "    <tr style=\"text-align: right;\">\n",
       "      <th></th>\n",
       "      <th>City</th>\n",
       "      <th>Population</th>\n",
       "      <th>County</th>\n",
       "      <th>State</th>\n",
       "      <th>FullState</th>\n",
       "      <th>MSA</th>\n",
       "      <th>Population Score</th>\n",
       "      <th>Closest Airport</th>\n",
       "      <th>Proximity to Airport</th>\n",
       "      <th>Airport Score</th>\n",
       "      <th>Primary Occupation</th>\n",
       "      <th>Secondary Occupation</th>\n",
       "      <th>Additional Occupations</th>\n",
       "    </tr>\n",
       "  </thead>\n",
       "  <tbody>\n",
       "    <tr>\n",
       "      <th>0</th>\n",
       "      <td>New York</td>\n",
       "      <td>8537673</td>\n",
       "      <td>Bronx County</td>\n",
       "      <td>NY</td>\n",
       "      <td>New York</td>\n",
       "      <td>New York-Jersey City-White Plains, NY-NJ Metro...</td>\n",
       "      <td>10.0</td>\n",
       "      <td>Newark Liberty International Airport</td>\n",
       "      <td>28 min</td>\n",
       "      <td>0.8</td>\n",
       "      <td>6.2</td>\n",
       "      <td></td>\n",
       "      <td></td>\n",
       "    </tr>\n",
       "    <tr>\n",
       "      <th>1</th>\n",
       "      <td>Los Angeles</td>\n",
       "      <td>3976322</td>\n",
       "      <td>Los Angeles County</td>\n",
       "      <td>CA</td>\n",
       "      <td>California</td>\n",
       "      <td>Los Angeles-Long Beach-Glendale, CA Metropolit...</td>\n",
       "      <td>10.0</td>\n",
       "      <td>Los Angeles International Airport</td>\n",
       "      <td>25 min</td>\n",
       "      <td>2.0</td>\n",
       "      <td>5.8</td>\n",
       "      <td></td>\n",
       "      <td></td>\n",
       "    </tr>\n",
       "    <tr>\n",
       "      <th>2</th>\n",
       "      <td>Chicago</td>\n",
       "      <td>2704958</td>\n",
       "      <td>Cook County</td>\n",
       "      <td>IL</td>\n",
       "      <td>Illinois</td>\n",
       "      <td>Chicago-Naperville-Arlington Heights, IL Metro...</td>\n",
       "      <td>10.0</td>\n",
       "      <td>O'Hare International Airport</td>\n",
       "      <td>31 min</td>\n",
       "      <td>0.0</td>\n",
       "      <td>10</td>\n",
       "      <td></td>\n",
       "      <td></td>\n",
       "    </tr>\n",
       "    <tr>\n",
       "      <th>3</th>\n",
       "      <td>Houston</td>\n",
       "      <td>2303482</td>\n",
       "      <td>Harris County</td>\n",
       "      <td>TX</td>\n",
       "      <td>Texas</td>\n",
       "      <td>Houston-The Woodlands-Sugar Land, TX</td>\n",
       "      <td>10.0</td>\n",
       "      <td>George Bush Intercontinental Airport</td>\n",
       "      <td>21 min</td>\n",
       "      <td>3.6</td>\n",
       "      <td>3.6</td>\n",
       "      <td></td>\n",
       "      <td></td>\n",
       "    </tr>\n",
       "    <tr>\n",
       "      <th>4</th>\n",
       "      <td>Phoenix</td>\n",
       "      <td>1615017</td>\n",
       "      <td>Maricopa County</td>\n",
       "      <td>AZ</td>\n",
       "      <td>Arizona</td>\n",
       "      <td>Phoenix-Mesa-Scottsdale, AZ</td>\n",
       "      <td>10.0</td>\n",
       "      <td>Phoenix Sky Harbor International Airport</td>\n",
       "      <td>9 min</td>\n",
       "      <td>8.4</td>\n",
       "      <td>6.4</td>\n",
       "      <td></td>\n",
       "      <td></td>\n",
       "    </tr>\n",
       "  </tbody>\n",
       "</table>\n",
       "</div>"
      ],
      "text/plain": [
       "          City  Population              County State   FullState  \\\n",
       "0     New York     8537673        Bronx County    NY    New York   \n",
       "1  Los Angeles     3976322  Los Angeles County    CA  California   \n",
       "2      Chicago     2704958         Cook County    IL    Illinois   \n",
       "3      Houston     2303482       Harris County    TX       Texas   \n",
       "4      Phoenix     1615017     Maricopa County    AZ     Arizona   \n",
       "\n",
       "                                                 MSA  Population Score  \\\n",
       "0  New York-Jersey City-White Plains, NY-NJ Metro...              10.0   \n",
       "1  Los Angeles-Long Beach-Glendale, CA Metropolit...              10.0   \n",
       "2  Chicago-Naperville-Arlington Heights, IL Metro...              10.0   \n",
       "3               Houston-The Woodlands-Sugar Land, TX              10.0   \n",
       "4                        Phoenix-Mesa-Scottsdale, AZ              10.0   \n",
       "\n",
       "                            Closest Airport Proximity to Airport  \\\n",
       "0      Newark Liberty International Airport               28 min   \n",
       "1         Los Angeles International Airport               25 min   \n",
       "2              O'Hare International Airport               31 min   \n",
       "3      George Bush Intercontinental Airport               21 min   \n",
       "4  Phoenix Sky Harbor International Airport                9 min   \n",
       "\n",
       "   Airport Score Primary Occupation Secondary Occupation  \\\n",
       "0            0.8                6.2                        \n",
       "1            2.0                5.8                        \n",
       "2            0.0                 10                        \n",
       "3            3.6                3.6                        \n",
       "4            8.4                6.4                        \n",
       "\n",
       "  Additional Occupations  \n",
       "0                         \n",
       "1                         \n",
       "2                         \n",
       "3                         \n",
       "4                         "
      ]
     },
     "execution_count": 25,
     "metadata": {},
     "output_type": "execute_result"
    }
   ],
   "source": [
    "for index2, row in census.iterrows():\n",
    "    MSA = row[\"MSA\"]\n",
    "    Scores = []\n",
    "    \n",
    "    for index, row in laborforce.iterrows():\n",
    "        if row[\"AREA_NAME\"] == MSA and row[\"OCC_TITLE\"] == Primary:\n",
    "            Scores.append(row[\"Score\"])\n",
    "    \n",
    "    census.set_value(index2, \"Primary Occupation\", round(Scores[0],1))\n",
    "    \n",
    "census.head()"
   ]
  },
  {
   "cell_type": "markdown",
   "metadata": {},
   "source": [
    "#### Calculate the Secondary Labor Force Scores and update the Census Data"
   ]
  },
  {
   "cell_type": "code",
   "execution_count": 26,
   "metadata": {},
   "outputs": [
    {
     "data": {
      "text/html": [
       "<div>\n",
       "<style>\n",
       "    .dataframe thead tr:only-child th {\n",
       "        text-align: right;\n",
       "    }\n",
       "\n",
       "    .dataframe thead th {\n",
       "        text-align: left;\n",
       "    }\n",
       "\n",
       "    .dataframe tbody tr th {\n",
       "        vertical-align: top;\n",
       "    }\n",
       "</style>\n",
       "<table border=\"1\" class=\"dataframe\">\n",
       "  <thead>\n",
       "    <tr style=\"text-align: right;\">\n",
       "      <th></th>\n",
       "      <th>City</th>\n",
       "      <th>Population</th>\n",
       "      <th>County</th>\n",
       "      <th>State</th>\n",
       "      <th>FullState</th>\n",
       "      <th>MSA</th>\n",
       "      <th>Population Score</th>\n",
       "      <th>Closest Airport</th>\n",
       "      <th>Proximity to Airport</th>\n",
       "      <th>Airport Score</th>\n",
       "      <th>Primary Occupation</th>\n",
       "      <th>Secondary Occupation</th>\n",
       "      <th>Additional Occupations</th>\n",
       "    </tr>\n",
       "  </thead>\n",
       "  <tbody>\n",
       "    <tr>\n",
       "      <th>0</th>\n",
       "      <td>New York</td>\n",
       "      <td>8537673</td>\n",
       "      <td>Bronx County</td>\n",
       "      <td>NY</td>\n",
       "      <td>New York</td>\n",
       "      <td>New York-Jersey City-White Plains, NY-NJ Metro...</td>\n",
       "      <td>10.0</td>\n",
       "      <td>Newark Liberty International Airport</td>\n",
       "      <td>28 min</td>\n",
       "      <td>0.8</td>\n",
       "      <td>6.2</td>\n",
       "      <td>8</td>\n",
       "      <td></td>\n",
       "    </tr>\n",
       "    <tr>\n",
       "      <th>1</th>\n",
       "      <td>Los Angeles</td>\n",
       "      <td>3976322</td>\n",
       "      <td>Los Angeles County</td>\n",
       "      <td>CA</td>\n",
       "      <td>California</td>\n",
       "      <td>Los Angeles-Long Beach-Glendale, CA Metropolit...</td>\n",
       "      <td>10.0</td>\n",
       "      <td>Los Angeles International Airport</td>\n",
       "      <td>25 min</td>\n",
       "      <td>2.0</td>\n",
       "      <td>5.8</td>\n",
       "      <td>6.1</td>\n",
       "      <td></td>\n",
       "    </tr>\n",
       "    <tr>\n",
       "      <th>2</th>\n",
       "      <td>Chicago</td>\n",
       "      <td>2704958</td>\n",
       "      <td>Cook County</td>\n",
       "      <td>IL</td>\n",
       "      <td>Illinois</td>\n",
       "      <td>Chicago-Naperville-Arlington Heights, IL Metro...</td>\n",
       "      <td>10.0</td>\n",
       "      <td>O'Hare International Airport</td>\n",
       "      <td>31 min</td>\n",
       "      <td>0.0</td>\n",
       "      <td>10</td>\n",
       "      <td>6.8</td>\n",
       "      <td></td>\n",
       "    </tr>\n",
       "    <tr>\n",
       "      <th>3</th>\n",
       "      <td>Houston</td>\n",
       "      <td>2303482</td>\n",
       "      <td>Harris County</td>\n",
       "      <td>TX</td>\n",
       "      <td>Texas</td>\n",
       "      <td>Houston-The Woodlands-Sugar Land, TX</td>\n",
       "      <td>10.0</td>\n",
       "      <td>George Bush Intercontinental Airport</td>\n",
       "      <td>21 min</td>\n",
       "      <td>3.6</td>\n",
       "      <td>3.6</td>\n",
       "      <td>5.2</td>\n",
       "      <td></td>\n",
       "    </tr>\n",
       "    <tr>\n",
       "      <th>4</th>\n",
       "      <td>Phoenix</td>\n",
       "      <td>1615017</td>\n",
       "      <td>Maricopa County</td>\n",
       "      <td>AZ</td>\n",
       "      <td>Arizona</td>\n",
       "      <td>Phoenix-Mesa-Scottsdale, AZ</td>\n",
       "      <td>10.0</td>\n",
       "      <td>Phoenix Sky Harbor International Airport</td>\n",
       "      <td>9 min</td>\n",
       "      <td>8.4</td>\n",
       "      <td>6.4</td>\n",
       "      <td>5.8</td>\n",
       "      <td></td>\n",
       "    </tr>\n",
       "  </tbody>\n",
       "</table>\n",
       "</div>"
      ],
      "text/plain": [
       "          City  Population              County State   FullState  \\\n",
       "0     New York     8537673        Bronx County    NY    New York   \n",
       "1  Los Angeles     3976322  Los Angeles County    CA  California   \n",
       "2      Chicago     2704958         Cook County    IL    Illinois   \n",
       "3      Houston     2303482       Harris County    TX       Texas   \n",
       "4      Phoenix     1615017     Maricopa County    AZ     Arizona   \n",
       "\n",
       "                                                 MSA  Population Score  \\\n",
       "0  New York-Jersey City-White Plains, NY-NJ Metro...              10.0   \n",
       "1  Los Angeles-Long Beach-Glendale, CA Metropolit...              10.0   \n",
       "2  Chicago-Naperville-Arlington Heights, IL Metro...              10.0   \n",
       "3               Houston-The Woodlands-Sugar Land, TX              10.0   \n",
       "4                        Phoenix-Mesa-Scottsdale, AZ              10.0   \n",
       "\n",
       "                            Closest Airport Proximity to Airport  \\\n",
       "0      Newark Liberty International Airport               28 min   \n",
       "1         Los Angeles International Airport               25 min   \n",
       "2              O'Hare International Airport               31 min   \n",
       "3      George Bush Intercontinental Airport               21 min   \n",
       "4  Phoenix Sky Harbor International Airport                9 min   \n",
       "\n",
       "   Airport Score Primary Occupation Secondary Occupation  \\\n",
       "0            0.8                6.2                    8   \n",
       "1            2.0                5.8                  6.1   \n",
       "2            0.0                 10                  6.8   \n",
       "3            3.6                3.6                  5.2   \n",
       "4            8.4                6.4                  5.8   \n",
       "\n",
       "  Additional Occupations  \n",
       "0                         \n",
       "1                         \n",
       "2                         \n",
       "3                         \n",
       "4                         "
      ]
     },
     "execution_count": 26,
     "metadata": {},
     "output_type": "execute_result"
    }
   ],
   "source": [
    "for index4, row in census.iterrows():\n",
    "    MSA = row[\"MSA\"]\n",
    "    Scores = []\n",
    "    \n",
    "    for index, row in laborforce.iterrows():\n",
    "        if row[\"AREA_NAME\"] == MSA and row[\"OCC_TITLE\"] == Secondary:\n",
    "            Scores.append(row[\"Score\"])\n",
    "\n",
    "    census.set_value(index4, \"Secondary Occupation\", round(Scores[0],1))\n",
    "    \n",
    "census.head()"
   ]
  },
  {
   "cell_type": "markdown",
   "metadata": {},
   "source": [
    "#### Calculate the Optional Labor Force(s) Scores and update the Census Data"
   ]
  },
  {
   "cell_type": "code",
   "execution_count": 27,
   "metadata": {},
   "outputs": [
    {
     "data": {
      "text/html": [
       "<div>\n",
       "<style>\n",
       "    .dataframe thead tr:only-child th {\n",
       "        text-align: right;\n",
       "    }\n",
       "\n",
       "    .dataframe thead th {\n",
       "        text-align: left;\n",
       "    }\n",
       "\n",
       "    .dataframe tbody tr th {\n",
       "        vertical-align: top;\n",
       "    }\n",
       "</style>\n",
       "<table border=\"1\" class=\"dataframe\">\n",
       "  <thead>\n",
       "    <tr style=\"text-align: right;\">\n",
       "      <th></th>\n",
       "      <th>City</th>\n",
       "      <th>Population</th>\n",
       "      <th>County</th>\n",
       "      <th>State</th>\n",
       "      <th>FullState</th>\n",
       "      <th>MSA</th>\n",
       "      <th>Population Score</th>\n",
       "      <th>Closest Airport</th>\n",
       "      <th>Proximity to Airport</th>\n",
       "      <th>Airport Score</th>\n",
       "      <th>Primary Occupation</th>\n",
       "      <th>Secondary Occupation</th>\n",
       "      <th>Additional Occupations</th>\n",
       "    </tr>\n",
       "  </thead>\n",
       "  <tbody>\n",
       "    <tr>\n",
       "      <th>0</th>\n",
       "      <td>New York</td>\n",
       "      <td>8537673</td>\n",
       "      <td>Bronx County</td>\n",
       "      <td>NY</td>\n",
       "      <td>New York</td>\n",
       "      <td>New York-Jersey City-White Plains, NY-NJ Metro...</td>\n",
       "      <td>10.0</td>\n",
       "      <td>Newark Liberty International Airport</td>\n",
       "      <td>28 min</td>\n",
       "      <td>0.8</td>\n",
       "      <td>6.2</td>\n",
       "      <td>8</td>\n",
       "      <td></td>\n",
       "    </tr>\n",
       "    <tr>\n",
       "      <th>1</th>\n",
       "      <td>Los Angeles</td>\n",
       "      <td>3976322</td>\n",
       "      <td>Los Angeles County</td>\n",
       "      <td>CA</td>\n",
       "      <td>California</td>\n",
       "      <td>Los Angeles-Long Beach-Glendale, CA Metropolit...</td>\n",
       "      <td>10.0</td>\n",
       "      <td>Los Angeles International Airport</td>\n",
       "      <td>25 min</td>\n",
       "      <td>2.0</td>\n",
       "      <td>5.8</td>\n",
       "      <td>6.1</td>\n",
       "      <td></td>\n",
       "    </tr>\n",
       "    <tr>\n",
       "      <th>2</th>\n",
       "      <td>Chicago</td>\n",
       "      <td>2704958</td>\n",
       "      <td>Cook County</td>\n",
       "      <td>IL</td>\n",
       "      <td>Illinois</td>\n",
       "      <td>Chicago-Naperville-Arlington Heights, IL Metro...</td>\n",
       "      <td>10.0</td>\n",
       "      <td>O'Hare International Airport</td>\n",
       "      <td>31 min</td>\n",
       "      <td>0.0</td>\n",
       "      <td>10</td>\n",
       "      <td>6.8</td>\n",
       "      <td></td>\n",
       "    </tr>\n",
       "    <tr>\n",
       "      <th>3</th>\n",
       "      <td>Houston</td>\n",
       "      <td>2303482</td>\n",
       "      <td>Harris County</td>\n",
       "      <td>TX</td>\n",
       "      <td>Texas</td>\n",
       "      <td>Houston-The Woodlands-Sugar Land, TX</td>\n",
       "      <td>10.0</td>\n",
       "      <td>George Bush Intercontinental Airport</td>\n",
       "      <td>21 min</td>\n",
       "      <td>3.6</td>\n",
       "      <td>3.6</td>\n",
       "      <td>5.2</td>\n",
       "      <td></td>\n",
       "    </tr>\n",
       "    <tr>\n",
       "      <th>4</th>\n",
       "      <td>Phoenix</td>\n",
       "      <td>1615017</td>\n",
       "      <td>Maricopa County</td>\n",
       "      <td>AZ</td>\n",
       "      <td>Arizona</td>\n",
       "      <td>Phoenix-Mesa-Scottsdale, AZ</td>\n",
       "      <td>10.0</td>\n",
       "      <td>Phoenix Sky Harbor International Airport</td>\n",
       "      <td>9 min</td>\n",
       "      <td>8.4</td>\n",
       "      <td>6.4</td>\n",
       "      <td>5.8</td>\n",
       "      <td></td>\n",
       "    </tr>\n",
       "  </tbody>\n",
       "</table>\n",
       "</div>"
      ],
      "text/plain": [
       "          City  Population              County State   FullState  \\\n",
       "0     New York     8537673        Bronx County    NY    New York   \n",
       "1  Los Angeles     3976322  Los Angeles County    CA  California   \n",
       "2      Chicago     2704958         Cook County    IL    Illinois   \n",
       "3      Houston     2303482       Harris County    TX       Texas   \n",
       "4      Phoenix     1615017     Maricopa County    AZ     Arizona   \n",
       "\n",
       "                                                 MSA  Population Score  \\\n",
       "0  New York-Jersey City-White Plains, NY-NJ Metro...              10.0   \n",
       "1  Los Angeles-Long Beach-Glendale, CA Metropolit...              10.0   \n",
       "2  Chicago-Naperville-Arlington Heights, IL Metro...              10.0   \n",
       "3               Houston-The Woodlands-Sugar Land, TX              10.0   \n",
       "4                        Phoenix-Mesa-Scottsdale, AZ              10.0   \n",
       "\n",
       "                            Closest Airport Proximity to Airport  \\\n",
       "0      Newark Liberty International Airport               28 min   \n",
       "1         Los Angeles International Airport               25 min   \n",
       "2              O'Hare International Airport               31 min   \n",
       "3      George Bush Intercontinental Airport               21 min   \n",
       "4  Phoenix Sky Harbor International Airport                9 min   \n",
       "\n",
       "   Airport Score Primary Occupation Secondary Occupation  \\\n",
       "0            0.8                6.2                    8   \n",
       "1            2.0                5.8                  6.1   \n",
       "2            0.0                 10                  6.8   \n",
       "3            3.6                3.6                  5.2   \n",
       "4            8.4                6.4                  5.8   \n",
       "\n",
       "  Additional Occupations  \n",
       "0                         \n",
       "1                         \n",
       "2                         \n",
       "3                         \n",
       "4                         "
      ]
     },
     "execution_count": 27,
     "metadata": {},
     "output_type": "execute_result"
    }
   ],
   "source": [
    "Optional = list(optional.value)\n",
    "total_optional = len(Optional)\n",
    "if total_optional != 0:\n",
    "    for index6, row in census.iterrows():\n",
    "        MSA = row[\"MSA\"]\n",
    "        optional_value = 0\n",
    "        avg_optional = 0\n",
    "\n",
    "        for index, row in laborforce.iterrows():\n",
    "            for occupation in Optional:\n",
    "                if row[\"AREA_NAME\"] == MSA and row[\"OCC_TITLE\"] == occupation:\n",
    "                    optional_value += row[\"Score\"]\n",
    "\n",
    "        avg_optional = optional_value / total_optional\n",
    "\n",
    "        census.set_value(index6, \"Additional Occupations\", round(avg_optional,1))\n",
    "    \n",
    "census.head()"
   ]
  },
  {
   "cell_type": "markdown",
   "metadata": {},
   "source": [
    "#### Calculate the Final Labor Force Scores and update the Census Data"
   ]
  },
  {
   "cell_type": "code",
   "execution_count": 28,
   "metadata": {},
   "outputs": [
    {
     "data": {
      "text/html": [
       "<div>\n",
       "<style>\n",
       "    .dataframe thead tr:only-child th {\n",
       "        text-align: right;\n",
       "    }\n",
       "\n",
       "    .dataframe thead th {\n",
       "        text-align: left;\n",
       "    }\n",
       "\n",
       "    .dataframe tbody tr th {\n",
       "        vertical-align: top;\n",
       "    }\n",
       "</style>\n",
       "<table border=\"1\" class=\"dataframe\">\n",
       "  <thead>\n",
       "    <tr style=\"text-align: right;\">\n",
       "      <th></th>\n",
       "      <th>City</th>\n",
       "      <th>Population</th>\n",
       "      <th>County</th>\n",
       "      <th>State</th>\n",
       "      <th>FullState</th>\n",
       "      <th>MSA</th>\n",
       "      <th>Population Score</th>\n",
       "      <th>Closest Airport</th>\n",
       "      <th>Proximity to Airport</th>\n",
       "      <th>Airport Score</th>\n",
       "      <th>Primary Occupation</th>\n",
       "      <th>Secondary Occupation</th>\n",
       "      <th>Additional Occupations</th>\n",
       "      <th>Labor Force Score</th>\n",
       "    </tr>\n",
       "  </thead>\n",
       "  <tbody>\n",
       "    <tr>\n",
       "      <th>0</th>\n",
       "      <td>New York</td>\n",
       "      <td>8537673</td>\n",
       "      <td>Bronx County</td>\n",
       "      <td>NY</td>\n",
       "      <td>New York</td>\n",
       "      <td>New York-Jersey City-White Plains, NY-NJ Metro...</td>\n",
       "      <td>10.0</td>\n",
       "      <td>Newark Liberty International Airport</td>\n",
       "      <td>28 min</td>\n",
       "      <td>0.8</td>\n",
       "      <td>6.2</td>\n",
       "      <td>8</td>\n",
       "      <td></td>\n",
       "      <td>6.875</td>\n",
       "    </tr>\n",
       "    <tr>\n",
       "      <th>1</th>\n",
       "      <td>Los Angeles</td>\n",
       "      <td>3976322</td>\n",
       "      <td>Los Angeles County</td>\n",
       "      <td>CA</td>\n",
       "      <td>California</td>\n",
       "      <td>Los Angeles-Long Beach-Glendale, CA Metropolit...</td>\n",
       "      <td>10.0</td>\n",
       "      <td>Los Angeles International Airport</td>\n",
       "      <td>25 min</td>\n",
       "      <td>2.0</td>\n",
       "      <td>5.8</td>\n",
       "      <td>6.1</td>\n",
       "      <td></td>\n",
       "      <td>5.9125</td>\n",
       "    </tr>\n",
       "    <tr>\n",
       "      <th>2</th>\n",
       "      <td>Chicago</td>\n",
       "      <td>2704958</td>\n",
       "      <td>Cook County</td>\n",
       "      <td>IL</td>\n",
       "      <td>Illinois</td>\n",
       "      <td>Chicago-Naperville-Arlington Heights, IL Metro...</td>\n",
       "      <td>10.0</td>\n",
       "      <td>O'Hare International Airport</td>\n",
       "      <td>31 min</td>\n",
       "      <td>0.0</td>\n",
       "      <td>10</td>\n",
       "      <td>6.8</td>\n",
       "      <td></td>\n",
       "      <td>8.8</td>\n",
       "    </tr>\n",
       "    <tr>\n",
       "      <th>3</th>\n",
       "      <td>Houston</td>\n",
       "      <td>2303482</td>\n",
       "      <td>Harris County</td>\n",
       "      <td>TX</td>\n",
       "      <td>Texas</td>\n",
       "      <td>Houston-The Woodlands-Sugar Land, TX</td>\n",
       "      <td>10.0</td>\n",
       "      <td>George Bush Intercontinental Airport</td>\n",
       "      <td>21 min</td>\n",
       "      <td>3.6</td>\n",
       "      <td>3.6</td>\n",
       "      <td>5.2</td>\n",
       "      <td></td>\n",
       "      <td>4.2</td>\n",
       "    </tr>\n",
       "    <tr>\n",
       "      <th>4</th>\n",
       "      <td>Phoenix</td>\n",
       "      <td>1615017</td>\n",
       "      <td>Maricopa County</td>\n",
       "      <td>AZ</td>\n",
       "      <td>Arizona</td>\n",
       "      <td>Phoenix-Mesa-Scottsdale, AZ</td>\n",
       "      <td>10.0</td>\n",
       "      <td>Phoenix Sky Harbor International Airport</td>\n",
       "      <td>9 min</td>\n",
       "      <td>8.4</td>\n",
       "      <td>6.4</td>\n",
       "      <td>5.8</td>\n",
       "      <td></td>\n",
       "      <td>6.175</td>\n",
       "    </tr>\n",
       "  </tbody>\n",
       "</table>\n",
       "</div>"
      ],
      "text/plain": [
       "          City  Population              County State   FullState  \\\n",
       "0     New York     8537673        Bronx County    NY    New York   \n",
       "1  Los Angeles     3976322  Los Angeles County    CA  California   \n",
       "2      Chicago     2704958         Cook County    IL    Illinois   \n",
       "3      Houston     2303482       Harris County    TX       Texas   \n",
       "4      Phoenix     1615017     Maricopa County    AZ     Arizona   \n",
       "\n",
       "                                                 MSA  Population Score  \\\n",
       "0  New York-Jersey City-White Plains, NY-NJ Metro...              10.0   \n",
       "1  Los Angeles-Long Beach-Glendale, CA Metropolit...              10.0   \n",
       "2  Chicago-Naperville-Arlington Heights, IL Metro...              10.0   \n",
       "3               Houston-The Woodlands-Sugar Land, TX              10.0   \n",
       "4                        Phoenix-Mesa-Scottsdale, AZ              10.0   \n",
       "\n",
       "                            Closest Airport Proximity to Airport  \\\n",
       "0      Newark Liberty International Airport               28 min   \n",
       "1         Los Angeles International Airport               25 min   \n",
       "2              O'Hare International Airport               31 min   \n",
       "3      George Bush Intercontinental Airport               21 min   \n",
       "4  Phoenix Sky Harbor International Airport                9 min   \n",
       "\n",
       "   Airport Score Primary Occupation Secondary Occupation  \\\n",
       "0            0.8                6.2                    8   \n",
       "1            2.0                5.8                  6.1   \n",
       "2            0.0                 10                  6.8   \n",
       "3            3.6                3.6                  5.2   \n",
       "4            8.4                6.4                  5.8   \n",
       "\n",
       "  Additional Occupations Labor Force Score  \n",
       "0                                    6.875  \n",
       "1                                   5.9125  \n",
       "2                                      8.8  \n",
       "3                                      4.2  \n",
       "4                                    6.175  "
      ]
     },
     "execution_count": 28,
     "metadata": {},
     "output_type": "execute_result"
    }
   ],
   "source": [
    "if total_optional != 0:\n",
    "    census[\"Labor Force Score\"] = (5 * census[\"Primary Occupation\"] + 3 * census[\"Secondary Occupation\"] + 2 * census[\"Additional Occupations\"]) / 10\n",
    "else:\n",
    "    census[\"Labor Force Score\"] = (5 * census[\"Primary Occupation\"] + 3 * census[\"Secondary Occupation\"]) / 8\n",
    "\n",
    "census.head()"
   ]
  },
  {
   "cell_type": "markdown",
   "metadata": {},
   "source": [
    "#### Adding the City with State Details in Census Data"
   ]
  },
  {
   "cell_type": "code",
   "execution_count": 29,
   "metadata": {
    "collapsed": true
   },
   "outputs": [],
   "source": [
    "census[\"City, State\"] = (census[\"City\"] + \", \" + census[\"FullState\"])\n",
    "#census.head()"
   ]
  },
  {
   "cell_type": "markdown",
   "metadata": {
    "collapsed": true
   },
   "source": [
    "#### Calculate the Overall Scores and update the Census Data"
   ]
  },
  {
   "cell_type": "code",
   "execution_count": 30,
   "metadata": {},
   "outputs": [
    {
     "data": {
      "text/html": [
       "<div>\n",
       "<style>\n",
       "    .dataframe thead tr:only-child th {\n",
       "        text-align: right;\n",
       "    }\n",
       "\n",
       "    .dataframe thead th {\n",
       "        text-align: left;\n",
       "    }\n",
       "\n",
       "    .dataframe tbody tr th {\n",
       "        vertical-align: top;\n",
       "    }\n",
       "</style>\n",
       "<table border=\"1\" class=\"dataframe\">\n",
       "  <thead>\n",
       "    <tr style=\"text-align: right;\">\n",
       "      <th></th>\n",
       "      <th>City</th>\n",
       "      <th>Population</th>\n",
       "      <th>County</th>\n",
       "      <th>State</th>\n",
       "      <th>FullState</th>\n",
       "      <th>MSA</th>\n",
       "      <th>Population Score</th>\n",
       "      <th>Closest Airport</th>\n",
       "      <th>Proximity to Airport</th>\n",
       "      <th>Airport Score</th>\n",
       "      <th>Primary Occupation</th>\n",
       "      <th>Secondary Occupation</th>\n",
       "      <th>Additional Occupations</th>\n",
       "      <th>Labor Force Score</th>\n",
       "      <th>City, State</th>\n",
       "      <th>Overall Score</th>\n",
       "    </tr>\n",
       "  </thead>\n",
       "  <tbody>\n",
       "    <tr>\n",
       "      <th>0</th>\n",
       "      <td>New York</td>\n",
       "      <td>8537673</td>\n",
       "      <td>Bronx County</td>\n",
       "      <td>NY</td>\n",
       "      <td>New York</td>\n",
       "      <td>New York-Jersey City-White Plains, NY-NJ Metro...</td>\n",
       "      <td>10.0</td>\n",
       "      <td>Newark Liberty International Airport</td>\n",
       "      <td>28 min</td>\n",
       "      <td>0.8</td>\n",
       "      <td>6.2</td>\n",
       "      <td>8</td>\n",
       "      <td></td>\n",
       "      <td>6.875</td>\n",
       "      <td>New York, New York</td>\n",
       "      <td>58.9</td>\n",
       "    </tr>\n",
       "    <tr>\n",
       "      <th>1</th>\n",
       "      <td>Los Angeles</td>\n",
       "      <td>3976322</td>\n",
       "      <td>Los Angeles County</td>\n",
       "      <td>CA</td>\n",
       "      <td>California</td>\n",
       "      <td>Los Angeles-Long Beach-Glendale, CA Metropolit...</td>\n",
       "      <td>10.0</td>\n",
       "      <td>Los Angeles International Airport</td>\n",
       "      <td>25 min</td>\n",
       "      <td>2.0</td>\n",
       "      <td>5.8</td>\n",
       "      <td>6.1</td>\n",
       "      <td></td>\n",
       "      <td>5.9125</td>\n",
       "      <td>Los Angeles, California</td>\n",
       "      <td>59.7</td>\n",
       "    </tr>\n",
       "    <tr>\n",
       "      <th>2</th>\n",
       "      <td>Chicago</td>\n",
       "      <td>2704958</td>\n",
       "      <td>Cook County</td>\n",
       "      <td>IL</td>\n",
       "      <td>Illinois</td>\n",
       "      <td>Chicago-Naperville-Arlington Heights, IL Metro...</td>\n",
       "      <td>10.0</td>\n",
       "      <td>O'Hare International Airport</td>\n",
       "      <td>31 min</td>\n",
       "      <td>0.0</td>\n",
       "      <td>10</td>\n",
       "      <td>6.8</td>\n",
       "      <td></td>\n",
       "      <td>8.8</td>\n",
       "      <td>Chicago, Illinois</td>\n",
       "      <td>62.7</td>\n",
       "    </tr>\n",
       "    <tr>\n",
       "      <th>3</th>\n",
       "      <td>Houston</td>\n",
       "      <td>2303482</td>\n",
       "      <td>Harris County</td>\n",
       "      <td>TX</td>\n",
       "      <td>Texas</td>\n",
       "      <td>Houston-The Woodlands-Sugar Land, TX</td>\n",
       "      <td>10.0</td>\n",
       "      <td>George Bush Intercontinental Airport</td>\n",
       "      <td>21 min</td>\n",
       "      <td>3.6</td>\n",
       "      <td>3.6</td>\n",
       "      <td>5.2</td>\n",
       "      <td></td>\n",
       "      <td>4.2</td>\n",
       "      <td>Houston, Texas</td>\n",
       "      <td>59.3</td>\n",
       "    </tr>\n",
       "    <tr>\n",
       "      <th>4</th>\n",
       "      <td>Phoenix</td>\n",
       "      <td>1615017</td>\n",
       "      <td>Maricopa County</td>\n",
       "      <td>AZ</td>\n",
       "      <td>Arizona</td>\n",
       "      <td>Phoenix-Mesa-Scottsdale, AZ</td>\n",
       "      <td>10.0</td>\n",
       "      <td>Phoenix Sky Harbor International Airport</td>\n",
       "      <td>9 min</td>\n",
       "      <td>8.4</td>\n",
       "      <td>6.4</td>\n",
       "      <td>5.8</td>\n",
       "      <td></td>\n",
       "      <td>6.175</td>\n",
       "      <td>Phoenix, Arizona</td>\n",
       "      <td>81.9</td>\n",
       "    </tr>\n",
       "  </tbody>\n",
       "</table>\n",
       "</div>"
      ],
      "text/plain": [
       "          City  Population              County State   FullState  \\\n",
       "0     New York     8537673        Bronx County    NY    New York   \n",
       "1  Los Angeles     3976322  Los Angeles County    CA  California   \n",
       "2      Chicago     2704958         Cook County    IL    Illinois   \n",
       "3      Houston     2303482       Harris County    TX       Texas   \n",
       "4      Phoenix     1615017     Maricopa County    AZ     Arizona   \n",
       "\n",
       "                                                 MSA  Population Score  \\\n",
       "0  New York-Jersey City-White Plains, NY-NJ Metro...              10.0   \n",
       "1  Los Angeles-Long Beach-Glendale, CA Metropolit...              10.0   \n",
       "2  Chicago-Naperville-Arlington Heights, IL Metro...              10.0   \n",
       "3               Houston-The Woodlands-Sugar Land, TX              10.0   \n",
       "4                        Phoenix-Mesa-Scottsdale, AZ              10.0   \n",
       "\n",
       "                            Closest Airport Proximity to Airport  \\\n",
       "0      Newark Liberty International Airport               28 min   \n",
       "1         Los Angeles International Airport               25 min   \n",
       "2              O'Hare International Airport               31 min   \n",
       "3      George Bush Intercontinental Airport               21 min   \n",
       "4  Phoenix Sky Harbor International Airport                9 min   \n",
       "\n",
       "   Airport Score Primary Occupation Secondary Occupation  \\\n",
       "0            0.8                6.2                    8   \n",
       "1            2.0                5.8                  6.1   \n",
       "2            0.0                 10                  6.8   \n",
       "3            3.6                3.6                  5.2   \n",
       "4            8.4                6.4                  5.8   \n",
       "\n",
       "  Additional Occupations Labor Force Score              City, State  \\\n",
       "0                                    6.875       New York, New York   \n",
       "1                                   5.9125  Los Angeles, California   \n",
       "2                                      8.8        Chicago, Illinois   \n",
       "3                                      4.2           Houston, Texas   \n",
       "4                                    6.175         Phoenix, Arizona   \n",
       "\n",
       "  Overall Score  \n",
       "0          58.9  \n",
       "1          59.7  \n",
       "2          62.7  \n",
       "3          59.3  \n",
       "4          81.9  "
      ]
     },
     "execution_count": 30,
     "metadata": {},
     "output_type": "execute_result"
    }
   ],
   "source": [
    "census[\"Overall Score\"] = (Pop_weight.value * census[\"Population Score\"] + Labor_weight.value * census[\"Labor Force Score\"] + Airport_weight.value * census[\"Airport Score\"]) / (Pop_weight.value + Labor_weight.value + Airport_weight.value) * 10\n",
    "census[\"Overall Score\"] = census[\"Overall Score\"].map(\"{:,.1f}\".format)\n",
    "census.head()"
   ]
  },
  {
   "cell_type": "markdown",
   "metadata": {},
   "source": [
    "#### Show the Final List of Cities based on the Input Selection"
   ]
  },
  {
   "cell_type": "code",
   "execution_count": 31,
   "metadata": {},
   "outputs": [
    {
     "data": {
      "text/html": [
       "<div>\n",
       "<style>\n",
       "    .dataframe thead tr:only-child th {\n",
       "        text-align: right;\n",
       "    }\n",
       "\n",
       "    .dataframe thead th {\n",
       "        text-align: left;\n",
       "    }\n",
       "\n",
       "    .dataframe tbody tr th {\n",
       "        vertical-align: top;\n",
       "    }\n",
       "</style>\n",
       "<table border=\"1\" class=\"dataframe\">\n",
       "  <thead>\n",
       "    <tr style=\"text-align: right;\">\n",
       "      <th></th>\n",
       "      <th>City, State</th>\n",
       "      <th>Population Score</th>\n",
       "      <th>Labor Force Score</th>\n",
       "      <th>Airport Score</th>\n",
       "      <th>Overall Score</th>\n",
       "    </tr>\n",
       "  </thead>\n",
       "  <tbody>\n",
       "    <tr>\n",
       "      <th>1</th>\n",
       "      <td>Lakeland, Florida</td>\n",
       "      <td>1.0</td>\n",
       "      <td>1.7125</td>\n",
       "      <td>0.0</td>\n",
       "      <td>9.0</td>\n",
       "    </tr>\n",
       "    <tr>\n",
       "      <th>2</th>\n",
       "      <td>Boston, Massachusetts</td>\n",
       "      <td>6.6</td>\n",
       "      <td>9.6625</td>\n",
       "      <td>9.2</td>\n",
       "      <td>84.9</td>\n",
       "    </tr>\n",
       "    <tr>\n",
       "      <th>3</th>\n",
       "      <td>Phoenix, Arizona</td>\n",
       "      <td>10.0</td>\n",
       "      <td>6.175</td>\n",
       "      <td>8.4</td>\n",
       "      <td>81.9</td>\n",
       "    </tr>\n",
       "    <tr>\n",
       "      <th>4</th>\n",
       "      <td>San Diego, California</td>\n",
       "      <td>10.0</td>\n",
       "      <td>6.625</td>\n",
       "      <td>7.6</td>\n",
       "      <td>80.8</td>\n",
       "    </tr>\n",
       "    <tr>\n",
       "      <th>5</th>\n",
       "      <td>Visalia, California</td>\n",
       "      <td>1.3</td>\n",
       "      <td>1.25</td>\n",
       "      <td>0.0</td>\n",
       "      <td>8.5</td>\n",
       "    </tr>\n",
       "    <tr>\n",
       "      <th>6</th>\n",
       "      <td>Columbus, Ohio</td>\n",
       "      <td>8.4</td>\n",
       "      <td>5.725</td>\n",
       "      <td>7.6</td>\n",
       "      <td>72.4</td>\n",
       "    </tr>\n",
       "    <tr>\n",
       "      <th>7</th>\n",
       "      <td>Philadelphia, Pennsylvania</td>\n",
       "      <td>10.0</td>\n",
       "      <td>4.9375</td>\n",
       "      <td>5.6</td>\n",
       "      <td>68.5</td>\n",
       "    </tr>\n",
       "    <tr>\n",
       "      <th>8</th>\n",
       "      <td>Oakland, California</td>\n",
       "      <td>4.1</td>\n",
       "      <td>10</td>\n",
       "      <td>6.4</td>\n",
       "      <td>68.3</td>\n",
       "    </tr>\n",
       "    <tr>\n",
       "      <th>9</th>\n",
       "      <td>Nashville-Davidson County, Tennessee</td>\n",
       "      <td>6.4</td>\n",
       "      <td>6.7875</td>\n",
       "      <td>7.2</td>\n",
       "      <td>68.0</td>\n",
       "    </tr>\n",
       "    <tr>\n",
       "      <th>10</th>\n",
       "      <td>Seattle, Washington</td>\n",
       "      <td>6.9</td>\n",
       "      <td>7.8125</td>\n",
       "      <td>5.6</td>\n",
       "      <td>67.7</td>\n",
       "    </tr>\n",
       "  </tbody>\n",
       "</table>\n",
       "</div>"
      ],
      "text/plain": [
       "                             City, State  Population Score Labor Force Score  \\\n",
       "1                      Lakeland, Florida               1.0            1.7125   \n",
       "2                  Boston, Massachusetts               6.6            9.6625   \n",
       "3                       Phoenix, Arizona              10.0             6.175   \n",
       "4                  San Diego, California              10.0             6.625   \n",
       "5                    Visalia, California               1.3              1.25   \n",
       "6                         Columbus, Ohio               8.4             5.725   \n",
       "7             Philadelphia, Pennsylvania              10.0            4.9375   \n",
       "8                    Oakland, California               4.1                10   \n",
       "9   Nashville-Davidson County, Tennessee               6.4            6.7875   \n",
       "10                   Seattle, Washington               6.9            7.8125   \n",
       "\n",
       "    Airport Score Overall Score  \n",
       "1             0.0           9.0  \n",
       "2             9.2          84.9  \n",
       "3             8.4          81.9  \n",
       "4             7.6          80.8  \n",
       "5             0.0           8.5  \n",
       "6             7.6          72.4  \n",
       "7             5.6          68.5  \n",
       "8             6.4          68.3  \n",
       "9             7.2          68.0  \n",
       "10            5.6          67.7  "
      ]
     },
     "execution_count": 31,
     "metadata": {},
     "output_type": "execute_result"
    }
   ],
   "source": [
    "result = census[[\"City, State\", \"Population Score\", \"Labor Force Score\", \"Airport Score\", \"Overall Score\"]]\n",
    "result = result.sort_values('Overall Score', ascending=False)\n",
    "result.index = np.arange(1, len(result) + 1)\n",
    "result = result.iloc[:10]\n",
    "result"
   ]
  },
  {
   "cell_type": "markdown",
   "metadata": {},
   "source": [
    "#### Create series for plotting"
   ]
  },
  {
   "cell_type": "code",
   "execution_count": 32,
   "metadata": {},
   "outputs": [
    {
     "data": {
      "text/plain": [
       "1     9.0\n",
       "2    84.9\n",
       "3    81.9\n",
       "4    80.8\n",
       "5     8.5\n",
       "Name: Overall Score, dtype: object"
      ]
     },
     "execution_count": 32,
     "metadata": {},
     "output_type": "execute_result"
    }
   ],
   "source": [
    "cities = result.iloc[:,0]\n",
    "pop_scores = result.iloc[:,1]\n",
    "labor_scores = result.iloc[:,2]\n",
    "air_scores = result.iloc[:,3]\n",
    "overall_scores = result.iloc[:,4]\n",
    "\n",
    "overall_scores.head()"
   ]
  },
  {
   "cell_type": "markdown",
   "metadata": {},
   "source": [
    "#### Plot Top Cities"
   ]
  },
  {
   "cell_type": "code",
   "execution_count": 33,
   "metadata": {},
   "outputs": [
    {
     "data": {
      "image/png": "[encoded data removed]",
      "text/plain": [
       "<matplotlib.figure.Figure at 0x11c4140b8>"
      ]
     },
     "metadata": {},
     "output_type": "display_data"
    }
   ],
   "source": [
    "# Initialize plot + format the scatters\n",
    "fig, ax = plt.subplots()\n",
    "ax.scatter(air_scores, labor_scores, pop_scores*60, alpha=0.75, c=overall_scores, cmap=plt.cm.Greens, edgecolors=\"black\", linewidths=1.5, label=\"Urban\")\n",
    "\n",
    "# Format and print the full plot\n",
    "plt.title(\"Amazon Headquarters 2.0 - Prospective Cities\\nTop 10 by Overall Score (Top 5 highlighted)\")\n",
    "plt.ylabel(\"Labor Force Scores\")\n",
    "plt.xlabel(\"Airport Scores\")\n",
    "plt.annotate(\"Note:\", xy=(0,0), xytext=(11,9))\n",
    "plt.annotate(\"Note:\", xy=(0,0), xytext=(11,9))\n",
    "plt.annotate(\"Circle size correlates with city population\", xy=(0,0), xytext=(11,8.25))\n",
    "plt.annotate(\"Circle color represents overall score...\", xy=(0,0), xytext=(11,7.5))\n",
    "plt.annotate(\"Colors range from white (low score) to dark green (high score)\", xy=(0,0), xytext=(11.25,7))\n",
    "\n",
    "plt.annotate(result.iloc[0,0], xy=(result.iloc[0,3], result.iloc[0,2]), xytext=(result.iloc[0,3]-0.25, result.iloc[0,2]+0.75))\n",
    "plt.annotate(result.iloc[1,0], xy=(result.iloc[1,3], result.iloc[1,2]), xytext=(result.iloc[1,3]-2.5, result.iloc[1,2]+0.75))\n",
    "plt.annotate(result.iloc[2,0], xy=(result.iloc[2,3], result.iloc[2,2]), xytext=(result.iloc[2,3]-0.25, result.iloc[2,2]-1))\n",
    "plt.annotate(result.iloc[3,0], xy=(result.iloc[3,3], result.iloc[3,2]), xytext=(result.iloc[3,3]-0.75, result.iloc[3,2]+0.75))\n",
    "plt.annotate(result.iloc[4,0], xy=(result.iloc[4,3], result.iloc[4,2]), xytext=(result.iloc[4,3]-2.25, result.iloc[4,2]+0.75))\n",
    "\n",
    "plt.xlim(-.5,10.5)\n",
    "plt.ylim(-.5,10.5)\n",
    "plt.show()"
   ]
  },
  {
   "cell_type": "code",
   "execution_count": null,
   "metadata": {
    "collapsed": true
   },
   "outputs": [],
   "source": []
  }
 ],
 "metadata": {
  "kernelspec": {
   "display_name": "Python 3",
   "language": "python",
   "name": "python3"
  },
  "language_info": {
   "codemirror_mode": {
    "name": "ipython",
    "version": 3
   },
   "file_extension": ".py",
   "mimetype": "text/x-python",
   "name": "python",
   "nbconvert_exporter": "python",
   "pygments_lexer": "ipython3",
   "version": "3.6.1"
  }
 },
 "nbformat": 4,
 "nbformat_minor": 2
}
